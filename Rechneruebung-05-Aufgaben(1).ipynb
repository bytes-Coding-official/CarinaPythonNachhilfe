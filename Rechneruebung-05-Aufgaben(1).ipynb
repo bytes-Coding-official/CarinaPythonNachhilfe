{
 "cells": [
  {
   "cell_type": "markdown",
   "id": "24512bf7",
   "metadata": {},
   "source": [
    "# 5. Rechnerübung: Klassen und Objekte\n",
    "\n",
    "## Aufgabe 1: Die Klasse Hase\n",
    "\n",
    "Betrachten Sie das folgende Programm. Es enthält die Definition einer Klasse `Hase`. Dann werden 5 Objekte `h1` bis `h5` vom Type `Hase` erzeugt und ihren Attributen Werte zugewiesen. Im Folgenden werden Sie in einzelnen Aufgaben das Programm um verschiedene Funktionalitäten erweitern."
   ]
  },
  {
   "cell_type": "code",
   "id": "ead5e89b",
   "metadata": {
    "ExecuteTime": {
     "end_time": "2024-06-19T09:45:31.375549Z",
     "start_time": "2024-06-19T09:45:31.370808Z"
    }
   },
   "source": [
    "class Hase:\n",
    "    existieren = True*\n",
    "\n",
    "    def __init__(self):\n",
    "        self.Name = \"?\"\n",
    "        self.Groesse = 0\n",
    "        self.Gewicht = 0\n",
    "        self.BesterFreund = None\n",
    "\n",
    "    def wachse(self, menge):\n",
    "        self.Groesse += menge\n",
    "\n",
    "    def __str__(self):\n",
    "        return f\"{self.Name} ist {self.Groesse} cm groß und wiegt {self.Gewicht} Gramm\"\n",
    "\n",
    "\n",
    "h1 = Hase()\n",
    "h1.Groesse = 10\n",
    "h1.Gewicht = 234\n",
    "h1.Name = \"Hoppel\"\n",
    "h1.exitieren = False\n",
    "h2 = Hase()\n",
    "h2.Groesse = 12\n",
    "h2.Gewicht = 210\n",
    "h2.Name = \"Smak\"\n",
    "h3 = Hase()\n",
    "h3.Groesse = 17\n",
    "h3.Gewicht = 333;\n",
    "h3.Name = \"Hopp\";\n",
    "h4 = Hase();\n",
    "h4.Groesse = 15;\n",
    "h4.Gewicht = 272;\n",
    "h4.Name = \"Puschel\";\n",
    "h5 = Hase();\n",
    "h5.Groesse = 13;\n",
    "h5.Gewicht = 250;\n",
    "h5.Name = \"Baukel\";\n",
    "h1.BesterFreund = h5;\n",
    "h2.BesterFreund = h3;\n",
    "h3.BesterFreund = h2;\n",
    "h4.BesterFreund = h1;\n",
    "h5.BesterFreund = h4;\n",
    "\n"
   ],
   "outputs": [
    {
     "name": "stdout",
     "output_type": "stream",
     "text": [
      "Hoppel 10\n",
      "Hoppel 11\n",
      "Smak 12\n",
      "Smak 13\n",
      "Hopp 17\n",
      "Hopp 18\n",
      "Puschel 15\n",
      "Puschel 16\n",
      "Baukel 13\n",
      "Baukel 14\n"
     ]
    }
   ],
   "execution_count": 43
  },
  {
   "cell_type": "markdown",
   "id": "02ee9ec7",
   "metadata": {},
   "source": [
    "### a) Attribute anzeigen\n",
    "\n",
    "Geben Sie in der folgenden Zelle ein paar `print`-Anweisungen ein um die Objekte zu untersuchen. Probieren Sie mal `print(h1)`. Es erscheint etwas kryptisches. Python kann keine ganzen Objekte anzeigen. Nach ein bisschen Spielen, finden Sie sicher heraus, wie das Argument bzw. die Argumente für die Printanweisung aussehen müssen, damit auf dem Bildschirm der Satz: `Hoppel ist 10 cm gross und wiegt 234 Gramm.` erscheint.\n"
   ]
  },
  {
   "cell_type": "code",
   "id": "012a6e23",
   "metadata": {
    "ExecuteTime": {
     "end_time": "2024-06-19T08:44:07.955102Z",
     "start_time": "2024-06-19T08:44:07.951537Z"
    }
   },
   "source": [
    "print(h1)\n",
    "print(h2)\n",
    "print(h3)\n",
    "print(h4)"
   ],
   "outputs": [
    {
     "name": "stdout",
     "output_type": "stream",
     "text": [
      "Hoppel ist 10 cm groß und wiegt 234 Gramm\n",
      "Smak ist 12 cm groß und wiegt 210 Gramm\n",
      "Hopp ist 17 cm groß und wiegt 333 Gramm\n",
      "Puschel ist 15 cm groß und wiegt 272 Gramm\n"
     ]
    }
   ],
   "execution_count": 8
  },
  {
   "cell_type": "markdown",
   "id": "9b48fe05",
   "metadata": {},
   "source": [
    "### b) Hasenliste erzeugen\n",
    "\n",
    "Erweitern Sie das Programm so, dass Sie eine Liste `AlleHasen` anlegen, in der (wie der Name schon sagt) alle 5 Hasen aufgeführt werden, so dass dann `AlleHasen[0]` das Objekt `h1` ist und `AlleHasen[1]` das Objekt `h2` ist und so weiter. Schreiben Sie dann eine neue Funktion mit Namen `AlleNamen` zum Anzeigen aller Hasennamen, die als Argument eine Liste erwartet, und rufen Sie diese Funktion mit der gerade angelegten Liste als Argument auf, so dass dann auf dem Bildschirm alle Hasennamen ausgedruckt werden. Die Ausgabe soll dann \n",
    "```\n",
    "Hoppel\n",
    "Smak\n",
    "Hopp\n",
    "Puschel\n",
    "Baukel\n",
    "```\n",
    "erscheinen."
   ]
  },
  {
   "cell_type": "code",
   "id": "dd1f5574",
   "metadata": {
    "ExecuteTime": {
     "end_time": "2024-06-19T09:24:20.450930Z",
     "start_time": "2024-06-19T09:24:20.447936Z"
    }
   },
   "source": [
    "\n",
    "AlleHasen = [h1,h2,h3,h4,h5]\n",
    "\n",
    "def AlleNamen(Hasen):\n",
    "    for hase in Hasen:\n",
    "        print(hase)\n"
   ],
   "outputs": [],
   "execution_count": 12
  },
  {
   "cell_type": "markdown",
   "id": "6e2546ed",
   "metadata": {},
   "source": [
    "### c) Hasenfreunde anzeigen\n",
    "\n",
    "Schreiben Sie nun eine Funktion namens `AlleFreunde`,, die auch als Argument eine Liste erwartet und auf dem Bildschirm für jeden Hasen in der Argumentliste ausgibt wer dessen Freund ist. Die Ausgabe nach dem Aufruf der Funktion mit dem Argument `AlleHasen`     soll dann so aussehen:\n",
    "```\n",
    "Der beste Freund von Hoppel ist Baukel\n",
    "Der beste Freund von Smak ist Hopp\n",
    "Der beste Freund von Hopp ist Smak\n",
    "Der beste Freund von Puschel ist Hoppel\n",
    "Der beste Freund von Baukel ist Puschel\n",
    "```"
   ]
  },
  {
   "cell_type": "code",
   "execution_count": null,
   "id": "3bfc0a0e",
   "metadata": {},
   "outputs": [],
   "source": [
    "def AlleFreunde(liste):\n",
    "    for hase in liste:\n",
    "        print(\"Der beschte Freund von\",hase.Name,\"ist\", hase.BesterFreund.Name )\n",
    "    "
   ]
  },
  {
   "cell_type": "markdown",
   "id": "26a42c8d",
   "metadata": {},
   "source": [
    "### d) Hasenpaare anzeigen\n",
    "\n",
    "Und jetzt basteln Sie eine Funktion `AllePaare`, die auf dem Bildschirm alle Paare ausgibt, das heißt alle Hasenpaare, die sich gegenseitig der beste Freund sind. Auch diese Funktion erwartet eine Liste von Hasenobjekten auf denen Sie ihre Arbeit verrichtet. Die Ausgabe muss dann so aussehen:\n",
    "```\n",
    "Smak und Hopp sind ein Paar\n",
    "```\n",
    "Alle Paare (naja, wir haben halt nur eines) sollen aber nur einmal ausgegeben werden, also nicht auch nochmal in der anderen Richtung."
   ]
  },
  {
   "cell_type": "code",
   "id": "7af14684",
   "metadata": {
    "ExecuteTime": {
     "end_time": "2024-06-19T09:26:42.462810Z",
     "start_time": "2024-06-19T09:26:42.459640Z"
    }
   },
   "source": [
    "def AllePaare(liste):\n",
    "   used = []\n",
    "   for hase in liste:\n",
    "       if hase.BesterFreund.BesterFreund == hase and hase not in used and hase.BesterFreund not in used:\n",
    "           print(f\"{hase.Name} und {hase.BesterFreund.Name} machen hasen sachen...\")\n",
    "           used.append(hase)\n",
    "           used.append(hase.BesterFreund)\n",
    "AllePaare(AlleHasen)"
   ],
   "outputs": [
    {
     "name": "stdout",
     "output_type": "stream",
     "text": [
      "Smak und Hopp machen hasen sachen...\n"
     ]
    }
   ],
   "execution_count": 15
  },
  {
   "cell_type": "markdown",
   "id": "7cda11ad",
   "metadata": {},
   "source": [
    "### e) Den kleinsten Hasen finden\n",
    "\n",
    "Schreiben Sie nun eine Funktion `FindeKleinsten`, die ebenso wie die anderen bisherigen Funktionen eine Liste von Hasenobjekten kriegt und aus dieser Liste das Objekt, das die kleinste Größe hat sucht, und dies dann auf dem Bildschirm anzeigt. In unserem Fall muss die Ausgabe dann aussehen wie:<br>\n",
    "```\n",
    "Der kleinste ist Hoppel\n",
    "```"
   ]
  },
  {
   "cell_type": "code",
   "id": "10c2a4cb",
   "metadata": {
    "ExecuteTime": {
     "end_time": "2024-06-19T09:36:04.758812Z",
     "start_time": "2024-06-19T09:36:04.755801Z"
    }
   },
   "source": [
    "print(min(AlleHasen, key=lambda hase: hase.Groesse))\n",
    "\n",
    "\n",
    "def miniumsuche(liste):\n",
    "    minimum = liste[0]\n",
    "    for hase in liste:\n",
    "        if hase.Groesse < minimum.Groesse:\n",
    "            minimum = hase\n",
    "    print(\"Der kleinste ist\", minimum.Name)\n",
    "miniumsuche(AlleHasen)"
   ],
   "outputs": [
    {
     "name": "stdout",
     "output_type": "stream",
     "text": [
      "Hoppel ist 10 cm groß und wiegt 234 Gramm\n",
      "Der kleinste ist Hoppel\n"
     ]
    }
   ],
   "execution_count": 19
  },
  {
   "cell_type": "markdown",
   "id": "ce351892",
   "metadata": {},
   "source": [
    "### f) Hasen wachsen lassen\n",
    "\n",
    "Schreiben Sie eine Funktion mit Namen `AlleWachsen`, die auch eine Hasenliste als Argument kriegt und unter der Verwendung der schon definierten Funktion `wachse(...)` dafür sorgt, dass alle Hasen in der Argumentliste um 1cm wachsen, also ihr Attribut `Groesse` umd 1 erhöhen. Geben Sie zum Test der Funktion die Größen vor und nach dem Aufruf auf dem Bildschirm aus."
   ]
  },
  {
   "cell_type": "code",
   "id": "d6142885",
   "metadata": {
    "ExecuteTime": {
     "end_time": "2024-06-19T09:45:53.457830Z",
     "start_time": "2024-06-19T09:45:53.454834Z"
    }
   },
   "source": [
    "def wachse(liste):\n",
    "    for hase in liste:\n",
    "        print(hase.Name,hase.Groesse)\n",
    "        hase.wachse(1)\n",
    "        print(hase.Name,hase.Groesse)\n",
    "wachse(AlleHasen)\n"
   ],
   "outputs": [
    {
     "name": "stdout",
     "output_type": "stream",
     "text": [
      "Hoppel 11\n",
      "Hoppel 12\n",
      "Smak 13\n",
      "Smak 14\n",
      "Hopp 18\n",
      "Hopp 19\n",
      "Puschel 16\n",
      "Puschel 17\n",
      "Baukel 14\n",
      "Baukel 15\n"
     ]
    }
   ],
   "execution_count": 44
  },
  {
   "cell_type": "markdown",
   "id": "6250de20",
   "metadata": {},
   "source": [
    "### g) Neue Objekt-Operation\n",
    "\n",
    "Definieren Sie die Klasse Hase erneut und erweitern Sie sie um eine weitere Objekt-Operation namens `friss`, die als Argument eine Zahl erwartet und dafür sorgt, dass das Objekt, für das sie aufgerufen wurde sein Gewicht vergrößert, namlich um den Wert des Arguments. "
   ]
  },
  {
   "cell_type": "code",
   "id": "62e1402f",
   "metadata": {
    "ExecuteTime": {
     "end_time": "2024-06-19T09:41:36.224538Z",
     "start_time": "2024-06-19T09:41:36.212688Z"
    }
   },
   "source": [
    "class Hase:\n",
    "    Name = \"?\"\n",
    "    Groesse = 0\n",
    "    Gewicht = 0\n",
    "    BesterFreund = None\n",
    "\n",
    "    def wachse(self, um):\n",
    "        self.Groesse = self.Groesse + um\n",
    "\n",
    "    # Hier kommt Ihr Code für die Funktion friss(...) hin\n",
    "\n",
    "\n",
    "h1 = Hase();\n",
    "h1.Groesse = 10;\n",
    "h1.Gewicht = 234;\n",
    "h1.Name = \"Hoppel\";\n",
    "h2 = Hase();\n",
    "h2.Groesse = 12;\n",
    "h2.Gewicht = 210;\n",
    "h2.Name = \"Smak\";\n",
    "h3 = Hase();\n",
    "h3.Groesse = 17;\n",
    "h3.Gewicht = 333;\n",
    "h3.Name = \"Hopp\";\n",
    "h4 = Hase();\n",
    "h4.Groesse = 15;\n",
    "h4.Gewicht = 272;\n",
    "h4.Name = \"Puschel\";\n",
    "h5 = Hase();\n",
    "h5.Groesse = 13;\n",
    "h5.Gewicht = 250;\n",
    "h5.Name = \"Baukel\";\n",
    "\n",
    "h1.BesterFreund = h5;\n",
    "h2.BesterFreund = h3;\n",
    "h3.BesterFreund = h2;\n",
    "h4.BesterFreund = h1;\n",
    "h5.BesterFreund = h4;\n",
    "\n",
    "print(h4.Gewicht)  # Ausgabe müsste 272 sein\n",
    "h4.friss(13)\n",
    "print(h4.Gewicht)  # Ausgabe müsste 285 sein"
   ],
   "outputs": [
    {
     "name": "stdout",
     "output_type": "stream",
     "text": [
      "272\n"
     ]
    },
    {
     "ename": "AttributeError",
     "evalue": "'Hase' object has no attribute 'friss'",
     "output_type": "error",
     "traceback": [
      "\u001B[1;31m---------------------------------------------------------------------------\u001B[0m",
      "\u001B[1;31mAttributeError\u001B[0m                            Traceback (most recent call last)",
      "Cell \u001B[1;32mIn[21], line 41\u001B[0m\n\u001B[0;32m     38\u001B[0m h5\u001B[38;5;241m.\u001B[39mBesterFreund \u001B[38;5;241m=\u001B[39m h4;\n\u001B[0;32m     40\u001B[0m \u001B[38;5;28mprint\u001B[39m(h4\u001B[38;5;241m.\u001B[39mGewicht)  \u001B[38;5;66;03m# Ausgabe müsste 272 sein\u001B[39;00m\n\u001B[1;32m---> 41\u001B[0m \u001B[43mh4\u001B[49m\u001B[38;5;241;43m.\u001B[39;49m\u001B[43mfriss\u001B[49m(\u001B[38;5;241m13\u001B[39m)\n\u001B[0;32m     42\u001B[0m \u001B[38;5;28mprint\u001B[39m(h4\u001B[38;5;241m.\u001B[39mGewicht)  \u001B[38;5;66;03m# Ausgabe müsste 285 sein\u001B[39;00m\n",
      "\u001B[1;31mAttributeError\u001B[0m: 'Hase' object has no attribute 'friss'"
     ]
    }
   ],
   "execution_count": 21
  },
  {
   "cell_type": "markdown",
   "id": "91916e48",
   "metadata": {},
   "source": [
    "## Aufgabe 2: Hochschulverwaltung\n",
    "\n",
    "Das folgende Programm stellt eine Verwaltungssoftware der Hasen-Uni in Karlsruhe dar. Ein paar Funktionen sind unvollständig. Ersetzen Sie die ausgeixten Stellen durch richtigen Python code, so dass die Ausgabe des Programms wie folgt aussieht:\n",
    "```\n",
    "Name:      Hoppla\n",
    "Matr.-Nr.: 84\n",
    "Noten:     Hüpfen 2.3 Trommeln 3.7 \n",
    "\n",
    "Noch nichts geprüft haben:\n",
    "Hoppel\n",
    "Puschel\n",
    "```\n",
    "\n",
    "Dazu müssen Sie das Programm studieren, erkennen und verstehen, welche Teile wofür zuständig sind, und sich an der obigen Ausgabe orientieren, Sie kriegen das hin - früher oder später."
   ]
  },
  {
   "cell_type": "code",
   "id": "47b321a3",
   "metadata": {
    "ExecuteTime": {
     "end_time": "2024-06-19T10:01:56.172008Z",
     "start_time": "2024-06-19T10:01:56.166777Z"
    }
   },
   "source": [
    "class Student:\n",
    "    Name = \"\"\n",
    "    MatrNr = 42\n",
    "    Noten = []\n",
    "    \n",
    "    def toString(self):\n",
    "        return f\"\"\"\n",
    "        Name: {self.Name}\n",
    "        Mat-Nr.: {self.MatrNr}\n",
    "        Noten: {[note.toString() for note in self.Noten]}\n",
    "\"\"\"\n",
    "        \n",
    "# VERVOLLSTÄNDIGEN SIE HIER DIE FUNKTION toString DAMIT SIE EINE\n",
    "# SCHÖNE ANZEIGE EINES STUDENTEN ALS STRING ZURÜCK LIEFERT, SO WIE\n",
    "# IN DEN ERSTEN DREI ZEILEN DER AUSGABE IN DER AUFGABENSTELLUNG.\n",
    "    def __str__(self):\n",
    "        return self.toString()\n",
    "\n",
    "\n",
    "class Note:\n",
    "    def toString(self):\n",
    "        return self.Fach + \" \" + str(self.Bewertung)\n",
    "\n",
    "\n",
    "class Hochschule:\n",
    "    Studenten = []\n",
    "    def getStudent(self, MatrNr):\n",
    "        std = None\n",
    "        for student in self.Studenten:\n",
    "            if student.MatrNr == MatrNr:\n",
    "                std = student\n",
    "        return std\n",
    "\n",
    "    # VERVOLLSTÄNDIGEN SIE DIESE FUNKTION DAMIT SIE EIN Student-OBJEKT\n",
    "    # ZURÜCK LIEFERT, DESSEN MATRIKEL NUMMER GLEICH DEM GEGEBENEN PARAMETER IST.\n",
    "\n",
    "    def getSchieber(self):\n",
    "        s = []\n",
    "        # FÜLLEN SIE HIER DIE LISTE S, SO DASS SIE ALLE Student-OBJEKTE ENTHÄLT,\n",
    "        # DEREN NOTENLISTE LEER IST.\n",
    "        for student in self.Studenten:\n",
    "            if len(student.Noten) == 0:\n",
    "                s.append(student)\n",
    "        return s\n",
    "\n",
    "\n",
    "HKA = Hochschule()\n",
    "\n",
    "n1 = Note()\n",
    "n1.Fach = \"Nagen\"\n",
    "n1.Bewertung = 1.0\n",
    "n2 = Note()\n",
    "n2.Fach = \"Hüpfen\"\n",
    "n2.Bewertung = 2.3\n",
    "n3 = Note()\n",
    "n3.Fach = \"Trommeln\"\n",
    "n3.Bewertung = 3.7\n",
    "\n",
    "s1 = Student()\n",
    "s1.Name = \"Baukel\"\n",
    "s1.MatrNr = 42\n",
    "s1.Noten = [n1]\n",
    "s2 = Student()\n",
    "s2.Name = \"Hoppel\"\n",
    "s2.MatrNr = 21\n",
    "s2.Noten = []\n",
    "s3 = Student()\n",
    "s3.Name = \"Hoppla\"\n",
    "s3.MatrNr = 84\n",
    "s3.Noten = [n2, n3]\n",
    "s4 = Student()\n",
    "s4.Name = \"Puschel\"\n",
    "s4.MatrNr = 63\n",
    "s4.Noten = []\n",
    "\n",
    "HKA.Studenten = [s1, s2, s3, s4]\n",
    "\n",
    "print(HKA.getStudent(84).toString())\n",
    "print()\n",
    "\n",
    "Schieber = HKA.getSchieber()\n",
    "print(\"Noch nichts geprüft haben:\")\n",
    "for sch in Schieber:\n",
    "    print(sch.Name)"
   ],
   "outputs": [
    {
     "name": "stdout",
     "output_type": "stream",
     "text": [
      "\n",
      "        Name: Hoppla\n",
      "        Mat-Nr.: 84\n",
      "        Noten: ['Hüpfen 2.3', 'Trommeln 3.7']\n",
      "\n",
      "\n",
      "Noch nichts geprüft haben:\n",
      "Hoppel\n",
      "Puschel\n"
     ]
    }
   ],
   "execution_count": 46
  },
  {
   "metadata": {},
   "cell_type": "code",
   "outputs": [],
   "execution_count": null,
   "source": "",
   "id": "9efdacc95c90c08c"
  }
 ],
 "metadata": {
  "kernelspec": {
   "display_name": "Python 3 (ipykernel)",
   "language": "python",
   "name": "python3"
  },
  "language_info": {
   "codemirror_mode": {
    "name": "ipython",
    "version": 3
   },
   "file_extension": ".py",
   "mimetype": "text/x-python",
   "name": "python",
   "nbconvert_exporter": "python",
   "pygments_lexer": "ipython3",
   "version": "3.9.18"
  }
 },
 "nbformat": 4,
 "nbformat_minor": 5
}
