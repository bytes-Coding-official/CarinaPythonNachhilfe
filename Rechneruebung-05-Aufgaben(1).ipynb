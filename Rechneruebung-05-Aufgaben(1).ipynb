{
 "cells": [
  {
   "cell_type": "markdown",
   "id": "24512bf7",
   "metadata": {},
   "source": [
    "# 5. Rechnerübung: Klassen und Objekte\n",
    "\n",
    "## Aufgabe 1: Die Klasse Hase\n",
    "\n",
    "Betrachten Sie das folgende Programm. Es enthält die Definition einer Klasse `Hase`. Dann werden 5 Objekte `h1` bis `h5` vom Type `Hase` erzeugt und ihren Attributen Werte zugewiesen. Im Folgenden werden Sie in einzelnen Aufgaben das Programm um verschiedene Funktionalitäten erweitern."
   ]
  },
  {
   "cell_type": "code",
   "execution_count": null,
   "id": "ead5e89b",
   "metadata": {},
   "outputs": [],
   "source": [
    "class Hase:\n",
    "    Name = \"?\"\n",
    "    Groesse = 0\n",
    "    Gewicht = 0\n",
    "    BesterFreund = None\n",
    "    def wachse(self,um):\n",
    "        self.Groesse += um\n",
    "\n",
    "h1 = Hase(); h1.Groesse=10; h1.Gewicht=234; h1.Name = \"Hoppel\";\n",
    "h2 = Hase(); h2.Groesse=12; h2.Gewicht=210; h2.Name = \"Smak\";\n",
    "h3 = Hase(); h3.Groesse=17; h3.Gewicht=333; h3.Name = \"Hopp\";\n",
    "h4 = Hase(); h4.Groesse=15; h4.Gewicht=272; h4.Name = \"Puschel\";\n",
    "h5 = Hase(); h5.Groesse=13; h5.Gewicht=250; h5.Name = \"Baukel\";\n",
    "h1.wachse()\n",
    "h1.BesterFreund = h5;\n",
    "h2.BesterFreund = h3;\n",
    "h3.BesterFreund = h2;\n",
    "h4.BesterFreund = h1;\n",
    "h5.BesterFreund = h4;"
   ]
  },
  {
   "cell_type": "markdown",
   "id": "02ee9ec7",
   "metadata": {},
   "source": [
    "### a) Attribute anzeigen\n",
    "\n",
    "Geben Sie in der folgenden Zelle ein paar `print`-Anweisungen ein um die Objekte zu untersuchen. Probieren Sie mal `print(h1)`. Es erscheint etwas kryptisches. Python kann keine ganzen Objekte anzeigen. Nach ein bisschen Spielen, finden Sie sicher heraus, wie das Argument bzw. die Argumente für die Printanweisung aussehen müssen, damit auf dem Bildschirm der Satz: `Hoppel ist 10 cm gross und wiegt 234 Gramm.` erscheint.\n"
   ]
  },
  {
   "cell_type": "code",
   "execution_count": null,
   "id": "012a6e23",
   "metadata": {},
   "outputs": [],
   "source": ""
  },
  {
   "cell_type": "markdown",
   "id": "9b48fe05",
   "metadata": {},
   "source": [
    "### b) Hasenliste erzeugen\n",
    "\n",
    "Erweitern Sie das Programm so, dass Sie eine Liste `AlleHasen` anlegen, in der (wie der Name schon sagt) alle 5 Hasen aufgeführt werden, so dass dann `AlleHasen[0]` das Objekt `h1` ist und `AlleHasen[1]` das Objekt `h2` ist und so weiter. Schreiben Sie dann eine neue Funktion mit Namen `AlleNamen` zum Anzeigen aller Hasennamen, die als Argument eine Liste erwartet, und rufen Sie diese Funktion mit der gerade angelegten Liste als Argument auf, so dass dann auf dem Bildschirm alle Hasennamen ausgedruckt werden. Die Ausgabe soll dann \n",
    "```\n",
    "Hoppel\n",
    "Smak\n",
    "Hopp\n",
    "Puschel\n",
    "Baukel\n",
    "```\n",
    "erscheinen."
   ]
  },
  {
   "cell_type": "code",
   "execution_count": null,
   "id": "dd1f5574",
   "metadata": {},
   "outputs": [],
   "source": []
  },
  {
   "cell_type": "markdown",
   "id": "6e2546ed",
   "metadata": {},
   "source": [
    "### c) Hasenfreunde anzeigen\n",
    "\n",
    "Schreiben Sie nun eine Funktion namens `AlleFreunde`,, die auch als Argument eine Liste erwartet und auf dem Bildschirm für jeden Hasen in der Argumentliste ausgibt wer dessen Freund ist. Die Ausgabe nach dem Aufruf der Funktion mit dem Argument `AlleHasen`     soll dann so aussehen:\n",
    "```\n",
    "Der beste Freund von Hoppel ist Baukel\n",
    "Der beste Freund von Smak ist Hopp\n",
    "Der beste Freund von Hopp ist Smak\n",
    "Der beste Freund von Puschel ist Hoppel\n",
    "Der beste Freund von Baukel ist Puschel\n",
    "```"
   ]
  },
  {
   "cell_type": "code",
   "execution_count": null,
   "id": "3bfc0a0e",
   "metadata": {},
   "outputs": [],
   "source": []
  },
  {
   "cell_type": "markdown",
   "id": "26a42c8d",
   "metadata": {},
   "source": [
    "### d) Hasenpaare anzeigen\n",
    "\n",
    "Und jetzt basteln Sie eine Funktion `AllePaare`, die auf dem Bildschirm alle Paare ausgibt, das heißt alle Hasenpaare, die sich gegenseitig der beste Freund sind. Auch diese Funktion erwartet eine Liste von Hasenobjekten auf denen Sie ihre Arbeit verrichtet. Die Ausgabe muss dann so aussehen:\n",
    "```\n",
    "Smak und Hopp sind ein Paar\n",
    "```\n",
    "Alle Paare (naja, wir haben halt nur eines) sollen aber nur einmal ausgegeben werden, also nicht auch nochmal in der anderen Richtung."
   ]
  },
  {
   "cell_type": "code",
   "execution_count": null,
   "id": "7af14684",
   "metadata": {},
   "outputs": [],
   "source": []
  },
  {
   "cell_type": "markdown",
   "id": "7cda11ad",
   "metadata": {},
   "source": [
    "### e) Den kleinsten Hasen finden\n",
    "\n",
    "Schreiben Sie nun eine Funktion `FindeKleinsten`, die ebenso wie die anderen bisherigen Funktionen eine Liste von Hasenobjekten kriegt und aus dieser Liste das Objekt, das die kleinste Größe hat sucht, und dies dann auf dem Bildschirm anzeigt. In unserem Fall muss die Ausgabe dann aussehen wie:<br>\n",
    "```\n",
    "Der kleinste ist Hoppel\n",
    "```"
   ]
  },
  {
   "cell_type": "code",
   "execution_count": null,
   "id": "10c2a4cb",
   "metadata": {},
   "outputs": [],
   "source": []
  },
  {
   "cell_type": "markdown",
   "id": "ce351892",
   "metadata": {},
   "source": [
    "### f) Hasen wachsen lassen\n",
    "\n",
    "Schreiben Sie eine Funktion mit Namen `AlleWachsen`, die auch eine Hasenliste als Argument kriegt und unter der Verwendung der schon definierten Funktion `wachse(...)` dafür sorgt, dass alle Hasen in der Argumentliste um 1cm wachsen, also ihr Attribut `Groesse` umd 1 erhöhen. Geben Sie zum Test der Funktion die Größen vor und nach dem Aufruf auf dem Bildschirm aus."
   ]
  },
  {
   "cell_type": "code",
   "execution_count": null,
   "id": "d6142885",
   "metadata": {},
   "outputs": [],
   "source": []
  },
  {
   "cell_type": "markdown",
   "id": "6250de20",
   "metadata": {},
   "source": [
    "### g) Neue Objekt-Operation\n",
    "\n",
    "Definieren Sie die Klasse Hase erneut und erweitern Sie sie um eine weitere Objekt-Operation namens `friss`, die als Argument eine Zahl erwartet und dafür sorgt, dass das Objekt, für das sie aufgerufen wurde sein Gewicht vergrößert, namlich um den Wert des Arguments. "
   ]
  },
  {
   "cell_type": "code",
   "execution_count": null,
   "id": "62e1402f",
   "metadata": {},
   "outputs": [],
   "source": [
    "class Hase:\n",
    "    Name = \"?\"\n",
    "    Groesse = 0\n",
    "    Gewicht = 0\n",
    "    BesterFreund = None\n",
    "    def wachse(self,um):\n",
    "        self.Groesse = self.Groesse+um\n",
    "\n",
    "    # Hier kommt Ihr Code für die Funktion friss(...) hin\n",
    "\n",
    "\n",
    "h1 = Hase(); h1.Groesse=10; h1.Gewicht=234; h1.Name = \"Hoppel\";\n",
    "h2 = Hase(); h2.Groesse=12; h2.Gewicht=210; h2.Name = \"Smak\";\n",
    "h3 = Hase(); h3.Groesse=17; h3.Gewicht=333; h3.Name = \"Hopp\";\n",
    "h4 = Hase(); h4.Groesse=15; h4.Gewicht=272; h4.Name = \"Puschel\";\n",
    "h5 = Hase(); h5.Groesse=13; h5.Gewicht=250; h5.Name = \"Baukel\";\n",
    "\n",
    "h1.BesterFreund = h5;\n",
    "h2.BesterFreund = h3;\n",
    "h3.BesterFreund = h2;\n",
    "h4.BesterFreund = h1;\n",
    "h5.BesterFreund = h4;\n",
    "\n",
    "print(h4.Gewicht)   # Ausgabe müsste 272 sein\n",
    "h4.friss(13)\n",
    "print(h4.Gewicht)   # Ausgabe müsste 285 sein"
   ]
  },
  {
   "cell_type": "markdown",
   "id": "91916e48",
   "metadata": {},
   "source": [
    "## Aufgabe 2: Hochschulverwaltung\n",
    "\n",
    "Das folgende Programm stellt eine Verwaltungssoftware der Hasen-Uni in Karlsruhe dar. Ein paar Funktionen sind unvollständig. Ersetzen Sie die ausgeixten Stellen durch richtigen Python code, so dass die Ausgabe des Programms wie folgt aussieht:\n",
    "```\n",
    "Name:      Hoppla\n",
    "Matr.-Nr.: 84\n",
    "Noten:     Hüpfen 2.3 Trommeln 3.7 \n",
    "\n",
    "Noch nichts geprüft haben:\n",
    "Hoppel\n",
    "Puschel\n",
    "```\n",
    "\n",
    "Dazu müssen Sie das Programm studieren, erkennen und verstehen, welche Teile wofür zuständig sind, und sich an der obigen Ausgabe orientieren, Sie kriegen das hin - früher oder später."
   ]
  },
  {
   "cell_type": "code",
   "execution_count": null,
   "id": "47b321a3",
   "metadata": {},
   "outputs": [],
   "source": [
    "class Student:\n",
    "    def toString(self):\n",
    "        # VERVOLLSTÄNDIGEN SIE HIER DIE FUNKTION toString DAMIT SIE EINE\n",
    "        # SCHÖNE ANZEIGE EINES STUDENTEN ALS STRING ZURÜCK LIEFERT, SO WIE\n",
    "        # IN DEN ERSTEN DREI ZEILEN DER AUSGABE IN DER AUFGABENSTELLUNG.\n",
    "        \n",
    "class Note:\n",
    "    def toString(self):\n",
    "        return self.Fach+\" \"+str(self.Bewertung)\n",
    "    \n",
    "class Hochschule:\n",
    "    def getStudent(self,MatrNr):\n",
    "        # VERVOLLSTÄNDIGEN SIE DIESE FUNKTION DAMIT SIE EIN Student-OBJEKT\n",
    "        # ZURÜCK LIEFERT, DESSEN MATRIKEL NUMMER GLEICH DEM GEGEBENEN PARAMETER IST.\n",
    "            \n",
    "    def getSchieber(self):\n",
    "        s = []\n",
    "        # FÜLLEN SIE HIER DIE LISTE S, SO DASS SIE ALLE Student-OBJEKTE ENTHÄLT,\n",
    "        # DEREN NOTENLISTE LEER IST.\n",
    "        return s\n",
    "\n",
    "HKA = Hochschule()\n",
    "\n",
    "n1 = Note(); n1.Fach = \"Nagen\";    n1.Bewertung = 1.0\n",
    "n2 = Note(); n2.Fach = \"Hüpfen\";   n2.Bewertung = 2.3\n",
    "n3 = Note(); n3.Fach = \"Trommeln\"; n3.Bewertung = 3.7\n",
    "\n",
    "s1 = Student(); s1.Name = \"Baukel\";  s1.MatrNr = 42; s1.Noten=[n1]\n",
    "s2 = Student(); s2.Name = \"Hoppel\";  s2.MatrNr = 21; s2.Noten=[]\n",
    "s3 = Student(); s3.Name = \"Hoppla\";  s3.MatrNr = 84; s3.Noten=[n2,n3]\n",
    "s4 = Student(); s4.Name = \"Puschel\"; s4.MatrNr = 63; s4.Noten=[]\n",
    "\n",
    "HKA.Studenten = [s1,s2,s3,s4]\n",
    "\n",
    "print(HKA.getStudent(84).toString())\n",
    "print()\n",
    "\n",
    "Schieber = HKA.getSchieber()\n",
    "print(\"Noch nichts geprüft haben:\")\n",
    "for sch in Schieber:\n",
    "    print(sch.Name)"
   ]
  }
 ],
 "metadata": {
  "kernelspec": {
   "display_name": "Python 3 (ipykernel)",
   "language": "python",
   "name": "python3"
  },
  "language_info": {
   "codemirror_mode": {
    "name": "ipython",
    "version": 3
   },
   "file_extension": ".py",
   "mimetype": "text/x-python",
   "name": "python",
   "nbconvert_exporter": "python",
   "pygments_lexer": "ipython3",
   "version": "3.9.18"
  }
 },
 "nbformat": 4,
 "nbformat_minor": 5
}
