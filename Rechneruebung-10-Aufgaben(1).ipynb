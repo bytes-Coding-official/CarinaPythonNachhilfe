{
 "cells": [
  {
   "cell_type": "markdown",
   "id": "6ae9b39f",
   "metadata": {},
   "source": [
    "# 10. Rechnerübung: Algorithmenschemata (Induktion und T&H)"
   ]
  },
  {
   "cell_type": "markdown",
   "id": "24512bf7",
   "metadata": {},
   "source": [
    "## Aufgabe 1: Einstieg mit gegebenem mathematischem Ausdruck\n",
    "\n",
    "### a) Anzahl der Teiler einer Zahl mit Induktion berechnen\n",
    "\n",
    "Die Funktion `AnzTeiler(n,t)` berechne wie viele Teiler die Zahl `n` hat, die größer oder gleich `t` sind. \n",
    "\n",
    "So soll zum Beispiel `AnzTeiler(144,11)` den Wert 8 liefern, denn die Zahlen 12,16,18,24,36,48,72,144 sind 8 Teiler von 144, die mindestens so groß sind wie 11. Mit der Funktion kann man dann auch ganz einfach die Anzahl aller Teiler einer beliebigen natürlichen Zahl `n` berechnen, indem man `AnzTeiler(n,1)` aufruft.\n",
    "\n",
    "Programmieren Sie diese Funktion gemäß der obigen Definition. Die Idee hierbei ist, dass `AnzTeiler(n,t)` entweder 0 ist, weil $t>n$, oder das gleiche ist wie `AnzTeiler(n,t+1)`, wenn $t$ kein Teiler von $n$ ist, oder (falls $t$ doch Teiler von $n$ ist) 1 mehr als `AnzTeiler(n,t+1)`.\n",
    "\n",
    "Mathematisch ausgedrückt:\n",
    "\n",
    "$\\text{AnzTeiler}(n,t) = \\left\\{ \\begin{array}{rl} 0 & \\text{ , falls }n<t \\\\\\text{AnzTeiler}(n,t+1) & \\text{ , falls } t \\text{ nicht Teiler von } n\\\\1+\\text{AnzTeiler}(n,t+1) & \\text{ , falls } t \\text{ Teiler von } n\\\\ \\end{array}\\right.$"
   ]
  },
  {
   "cell_type": "code",
   "id": "2d4d3810",
   "metadata": {
    "ExecuteTime": {
     "end_time": "2024-06-21T17:22:47.955077Z",
     "start_time": "2024-06-21T17:22:47.951414Z"
    }
   },
   "source": [
    "def AnzTeiler(n, t):\n",
    "    if n < t:\n",
    "        return 0\n",
    "    elif n % t != 0:\n",
    "        return AnzTeiler(n, t + 1)\n",
    "    elif n % t == 0:\n",
    "        return 1 + AnzTeiler(n, t + 1)\n",
    "\n",
    "    elif\n",
    "\n",
    "\n",
    "print(AnzTeiler(144, 11))  # Erwartung: Es wird 8 ausgegeben\n",
    "print(AnzTeiler(97, 1))  # Erwartung: Es wird 2 ausgegeben, weil 97 prim ist\n",
    "print(AnzTeiler(144, 1))  # Erwartung: Es wird 15 ausgegeben"
   ],
   "outputs": [
    {
     "ename": "SyntaxError",
     "evalue": "invalid syntax (2084169900.py, line 9)",
     "output_type": "error",
     "traceback": [
      "\u001B[1;36m  Cell \u001B[1;32mIn[2], line 9\u001B[1;36m\u001B[0m\n\u001B[1;33m    if\u001B[0m\n\u001B[1;37m      ^\u001B[0m\n\u001B[1;31mSyntaxError\u001B[0m\u001B[1;31m:\u001B[0m invalid syntax\n"
     ]
    }
   ],
   "execution_count": 2
  },
  {
   "cell_type": "markdown",
   "id": "b04d9db3",
   "metadata": {},
   "source": [
    "### b) Faklutät einer Zahl mit Teile-und-herrsche berechnen\n",
    "\n",
    "Die Funktion `P(a,b)` berechnet das Produkt aller natürlicher Zahlen von `a` bis `b` einschließlich.\n",
    "\n",
    "$P(a,b) = \\prod\\limits_{k=a}^{b} k$  kann man rekursiv definieren wie folgt:\n",
    "\n",
    "$P(a,b) = \\left\\{ \\begin{array}{rl} a & \\text{ , falls }a=b \\\\ P(a,\\lfloor\\frac{a+b}{2}\\rfloor)\\cdot P(\\lfloor\\frac{a+b}{2}\\rfloor+1,b) & \\text{ , sonst}\\end{array}\\right.$\n",
    "\n",
    "So ist zum Beispiel $\\prod\\limits_{k=5}^{9} k = P(5,9) = P(5,\\lfloor\\frac{5+9}{2}\\rfloor))\\cdot P(\\lfloor\\frac{5+9}{2}\\rfloor\\!+\\!1,~9) = P(5,7)\\cdot P(8,9) = $ usw.\n",
    "\n",
    "Man kann also das Produkt aller natürlichen Zahlen im Bereich von $a$ bis $b$ berechnen, indem man das Produkt der Zahlen in der unteren Hälfte des Breichs multipliziert mit dem Produkt aller Zahlen der oberen Hälfte. Wäre eine solche Funktion vorhanden, könnten man die Fakultät auch berechnen durch $n!=P(1,n)$.\n",
    "\n",
    "Programmieren Sie diese Funktion gemäß der obigen Definition:"
   ]
  },
  {
   "cell_type": "code",
   "id": "c0804afb",
   "metadata": {
    "ExecuteTime": {
     "end_time": "2024-06-21T17:31:11.097734Z",
     "start_time": "2024-06-21T17:31:10.388894Z"
    }
   },
   "source": [
    "def P(a, b):\n",
    "    if a == b:\n",
    "        return a\n",
    "    else:\n",
    "        return P(a, (a + b) // 2) * P((a + b) // 2 + 1, b)\n",
    "\n",
    "\n",
    "print(P(5, 9))  # Erwartung: Es wird 15120 ausgegeben\n",
    "print(P(1, 10))  # Erwartung: Es wird 10!, also 3628800 ausgegeben"
   ],
   "outputs": [
    {
     "ename": "RecursionError",
     "evalue": "maximum recursion depth exceeded",
     "output_type": "error",
     "traceback": [
      "\u001B[1;31m---------------------------------------------------------------------------\u001B[0m",
      "\u001B[1;31mRecursionError\u001B[0m                            Traceback (most recent call last)",
      "Cell \u001B[1;32mIn[4], line 7\u001B[0m\n\u001B[0;32m      4\u001B[0m     \u001B[38;5;28;01melse\u001B[39;00m:\n\u001B[0;32m      5\u001B[0m         \u001B[38;5;28;01mreturn\u001B[39;00m P(a,(a\u001B[38;5;241m+\u001B[39mb)\u001B[38;5;241m/\u001B[39m\u001B[38;5;241m2\u001B[39m)\u001B[38;5;241m*\u001B[39mP( (a\u001B[38;5;241m+\u001B[39mb)\u001B[38;5;241m/\u001B[39m\u001B[38;5;241m2\u001B[39m \u001B[38;5;241m+\u001B[39m\u001B[38;5;241m1\u001B[39m , b)\n\u001B[1;32m----> 7\u001B[0m \u001B[38;5;28mprint\u001B[39m(\u001B[43mP\u001B[49m\u001B[43m(\u001B[49m\u001B[38;5;241;43m5\u001B[39;49m\u001B[43m,\u001B[49m\u001B[38;5;241;43m9\u001B[39;49m\u001B[43m)\u001B[49m)     \u001B[38;5;66;03m# Erwartung: Es wird 15120 ausgegeben\u001B[39;00m\n\u001B[0;32m      8\u001B[0m \u001B[38;5;28mprint\u001B[39m(P(\u001B[38;5;241m1\u001B[39m,\u001B[38;5;241m10\u001B[39m))    \u001B[38;5;66;03m# Erwartung: Es wird 10!, also 3628800 ausgegeben\u001B[39;00m\n",
      "Cell \u001B[1;32mIn[4], line 5\u001B[0m, in \u001B[0;36mP\u001B[1;34m(a, b)\u001B[0m\n\u001B[0;32m      3\u001B[0m     \u001B[38;5;28;01mreturn\u001B[39;00m a\n\u001B[0;32m      4\u001B[0m \u001B[38;5;28;01melse\u001B[39;00m:\n\u001B[1;32m----> 5\u001B[0m     \u001B[38;5;28;01mreturn\u001B[39;00m \u001B[43mP\u001B[49m\u001B[43m(\u001B[49m\u001B[43ma\u001B[49m\u001B[43m,\u001B[49m\u001B[43m(\u001B[49m\u001B[43ma\u001B[49m\u001B[38;5;241;43m+\u001B[39;49m\u001B[43mb\u001B[49m\u001B[43m)\u001B[49m\u001B[38;5;241;43m/\u001B[39;49m\u001B[38;5;241;43m2\u001B[39;49m\u001B[43m)\u001B[49m\u001B[38;5;241m*\u001B[39mP( (a\u001B[38;5;241m+\u001B[39mb)\u001B[38;5;241m/\u001B[39m\u001B[38;5;241m2\u001B[39m \u001B[38;5;241m+\u001B[39m\u001B[38;5;241m1\u001B[39m , b)\n",
      "Cell \u001B[1;32mIn[4], line 5\u001B[0m, in \u001B[0;36mP\u001B[1;34m(a, b)\u001B[0m\n\u001B[0;32m      3\u001B[0m     \u001B[38;5;28;01mreturn\u001B[39;00m a\n\u001B[0;32m      4\u001B[0m \u001B[38;5;28;01melse\u001B[39;00m:\n\u001B[1;32m----> 5\u001B[0m     \u001B[38;5;28;01mreturn\u001B[39;00m \u001B[43mP\u001B[49m\u001B[43m(\u001B[49m\u001B[43ma\u001B[49m\u001B[43m,\u001B[49m\u001B[43m(\u001B[49m\u001B[43ma\u001B[49m\u001B[38;5;241;43m+\u001B[39;49m\u001B[43mb\u001B[49m\u001B[43m)\u001B[49m\u001B[38;5;241;43m/\u001B[39;49m\u001B[38;5;241;43m2\u001B[39;49m\u001B[43m)\u001B[49m\u001B[38;5;241m*\u001B[39mP( (a\u001B[38;5;241m+\u001B[39mb)\u001B[38;5;241m/\u001B[39m\u001B[38;5;241m2\u001B[39m \u001B[38;5;241m+\u001B[39m\u001B[38;5;241m1\u001B[39m , b)\n",
      "    \u001B[1;31m[... skipping similar frames: P at line 5 (2974 times)]\u001B[0m\n",
      "Cell \u001B[1;32mIn[4], line 5\u001B[0m, in \u001B[0;36mP\u001B[1;34m(a, b)\u001B[0m\n\u001B[0;32m      3\u001B[0m     \u001B[38;5;28;01mreturn\u001B[39;00m a\n\u001B[0;32m      4\u001B[0m \u001B[38;5;28;01melse\u001B[39;00m:\n\u001B[1;32m----> 5\u001B[0m     \u001B[38;5;28;01mreturn\u001B[39;00m \u001B[43mP\u001B[49m\u001B[43m(\u001B[49m\u001B[43ma\u001B[49m\u001B[43m,\u001B[49m\u001B[43m(\u001B[49m\u001B[43ma\u001B[49m\u001B[38;5;241;43m+\u001B[39;49m\u001B[43mb\u001B[49m\u001B[43m)\u001B[49m\u001B[38;5;241;43m/\u001B[39;49m\u001B[38;5;241;43m2\u001B[39;49m\u001B[43m)\u001B[49m\u001B[38;5;241m*\u001B[39mP( (a\u001B[38;5;241m+\u001B[39mb)\u001B[38;5;241m/\u001B[39m\u001B[38;5;241m2\u001B[39m \u001B[38;5;241m+\u001B[39m\u001B[38;5;241m1\u001B[39m , b)\n",
      "\u001B[1;31mRecursionError\u001B[0m: maximum recursion depth exceeded"
     ]
    }
   ],
   "execution_count": 4
  },
  {
   "cell_type": "markdown",
   "id": "5b707869",
   "metadata": {},
   "source": [
    "## Aufgabe 2: Summe aller geraden Listenelemente - mehrere Ansätze\n",
    "\n",
    "Eine Funktion `ProdG(...)` soll das Produkt aller geraden Listenelemente berechnen (d.h. aller Zahlen, die Element der Liste sind und die gerade sind). Das machen wir hier auf 5 verschiedene Arten:\n",
    "\n",
    "### a) Sequenziell (ohne Rekursion)"
   ]
  },
  {
   "cell_type": "code",
   "id": "8d6145b2",
   "metadata": {
    "ExecuteTime": {
     "end_time": "2024-06-21T17:44:47.371199Z",
     "start_time": "2024-06-21T17:44:47.367199Z"
    }
   },
   "source": [
    "def ProdG(L):\n",
    "    # Hier kommt Ihr Code\n",
    "    summe = 1\n",
    "    for item in L:\n",
    "        if item % 2 == 0:\n",
    "            summe *= item\n",
    "    return summe\n",
    "\n",
    "\n",
    "print(ProdG([2, 5, 9, 12, 12]))  # Erwartung: Es wird 288 ausgegeben\n",
    "print(ProdG([3, 9, 5, 3]))  # Erwartung: Es wird 1 ausgegeben\n",
    "print(ProdG([0, 1, 2]))  # Erwartung: Es wird 0 ausgegeben"
   ],
   "outputs": [
    {
     "name": "stdout",
     "output_type": "stream",
     "text": [
      "288\n",
      "1\n",
      "0\n"
     ]
    }
   ],
   "execution_count": 6
  },
  {
   "cell_type": "markdown",
   "id": "5a607eb9",
   "metadata": {},
   "source": [
    "### b) Induktiv mit Grenzenübergabe\n",
    "\n",
    "Tipp: das immer weiter schrumpfende `n` sein die Länge der Liste."
   ]
  },
  {
   "cell_type": "code",
   "id": "a616ec6b",
   "metadata": {
    "ExecuteTime": {
     "end_time": "2024-06-21T17:48:34.750762Z",
     "start_time": "2024-06-21T17:48:34.747840Z"
    }
   },
   "source": [
    "def ProdGI1(L, n):  #n =  5, 4 ,3 , 2 , 1 , 0 \n",
    "    # Hier kommt Ihr Code\n",
    "    if n < 0:\n",
    "        return 1\n",
    "    item = L[n]\n",
    "    if item % 2 == 0:\n",
    "        return item * ProdGI1(L, n - 1)\n",
    "    else:\n",
    "        return ProdGI1(L, n - 1)\n",
    "\n",
    "        range(start, ende, schritt)\n",
    "\n",
    "        LISTE[START:ENDE:SCHRITT]\n",
    "\n",
    "\n",
    "print(ProdGI1([2, 5, 9, 12, 12], 4))  # Erwartung: Es wird 288 ausgegeben\n",
    "print(ProdGI1([3, 9, 5, 3], 3))  # Erwartung: Es wird 1 ausgegeben\n",
    "print(ProdGI1([0, 1, 2], 2))  # Erwartung: Es wird 0 ausgegeben"
   ],
   "outputs": [
    {
     "name": "stdout",
     "output_type": "stream",
     "text": [
      "288\n",
      "1\n",
      "0\n"
     ]
    }
   ],
   "execution_count": 12
  },
  {
   "cell_type": "markdown",
   "id": "465f608a",
   "metadata": {},
   "source": [
    "### c) Induktiv ohne Grenzenübergabe\n",
    "\n",
    "Tipp: übergeben Sie immer kleiner werdende Kopien der Usprungsliste"
   ]
  },
  {
   "cell_type": "code",
   "execution_count": null,
   "id": "d2082d32",
   "metadata": {},
   "outputs": [],
   "source": [
    "def ProdGI2(L):  #[2,5,9,12,12] [5,9,12,12] [9,12,12] [12,12] [12] []\n",
    "    # Hier kommt Ihr Code\n",
    "    if len(L) == 0:\n",
    "        return 1\n",
    "    item = L.pop(0)\n",
    "    #item = L[0]\n",
    "    #L = L[1:]\n",
    "    if item % 2 == 0:\n",
    "        return item * ProdGI2(L)\n",
    "    else:\n",
    "        return ProdGI2(L)\n",
    "\n",
    "\n",
    "print(ProdGI2([2, 5, 9, 12, 12]))  # Erwartung: Es wird 288 ausgegeben\n",
    "print(ProdGI2([3, 9, 5, 3]))  # Erwartung: Es wird 1 ausgegeben\n",
    "print(ProdGI2([0, 1, 2]))  # Erwartung: Es wird 0 ausgegeben"
   ]
  },
  {
   "cell_type": "markdown",
   "id": "2548197e",
   "metadata": {},
   "source": [
    "### d) Teile-und-herrsche mit Grenzenübergabe"
   ]
  },
  {
   "cell_type": "code",
   "id": "77f6e20b",
   "metadata": {
    "ExecuteTime": {
     "end_time": "2024-06-21T18:05:13.734955Z",
     "start_time": "2024-06-21T18:05:13.731455Z"
    }
   },
   "source": [
    "def ProdGT1(A, l, r):\n",
    "    if l == r:\n",
    "        \n",
    "        if A[l] % 2 ==0:\n",
    "            return A[l]\n",
    "        else:\n",
    "            return 1\n",
    "        \n",
    "    else:\n",
    "       return ProdGT1(A, l, (l+r)//2) * ProdGT1(A, (l+r)//2 + 1, r)\n",
    "\n",
    "\n",
    "print(ProdGT1([4, 5, 9, 6, 12, 1, 3, 9, 9, 2], 0, 9))  # Erwartung: Es wird 576 ausgegeben\n",
    "print(ProdGT1([3, 9, 5, 3, 1, 1, 1, 5, 3, 11, 7], 0, 10))  # Erwartung: Es wird 1 ausgegeben\n",
    "print(ProdGT1([0, 1, 2, 4, 6, 7, 8, 8, 8, 22, 3], 0, 10))  # Erwartung: Es wird 0 ausgegeben"
   ],
   "outputs": [
    {
     "name": "stdout",
     "output_type": "stream",
     "text": [
      "576\n",
      "1\n",
      "0\n"
     ]
    }
   ],
   "execution_count": 19
  },
  {
   "cell_type": "markdown",
   "id": "84d50b65",
   "metadata": {},
   "source": [
    "### e) Teile-und-herrsche ohne Grenzwertübergabe"
   ]
  },
  {
   "cell_type": "code",
   "execution_count": null,
   "id": "1970a4d4",
   "metadata": {},
   "outputs": [],
   "source": [
    "def ProdGT2(A):\n",
    "\n",
    "\n",
    "# Hier kommt Ihr Code\n",
    "\n",
    "print(ProdGT2([4, 5, 9, 6, 12, 1, 3, 9, 9, 2]))  # Erwartung: Es wird 576 ausgegeben\n",
    "print(ProdGT2([3, 9, 5, 3, 1, 1, 1, 5, 3, 11, 7]))  # Erwartung: Es wird 1 ausgegeben\n",
    "print(ProdGT2([0, 1, 2, 4, 6, 7, 8, 8, 8, 22, 3]))  # Erwartung: Es wird 0 ausgegeben"
   ]
  },
  {
   "cell_type": "markdown",
   "id": "91f9a53b",
   "metadata": {},
   "source": [
    "## Aufgabe 3: Betrag mit Münzen zusammensetzen\n",
    "\n",
    "Die Liste `[200,100,50,20,10,5,2,1]` enthält die Nennwerte unserer üblichen Euro-Geldmünzen in Cent. Schreiben Sie eine rekursive Funktion `MiniMuenz(M,b)` die berechnet, wie viele Münzen deren Werte in der Liste `M` in absteigender Reihenfolge stehen mindestens nötig sind, um den Betrag `b` zusammenzusetzen.\n",
    "\n",
    "Die Idee zum Vorgehen ist diese: Wenn wir davon ausgehen, dass man niemals Münzen sparen kann, indem man auf die höchstwertige in den Betrag passende Münze verzichtet (was zum Beispiel bei einem Münzset `[5,4,1]` und einem Betrag von 8 tatsächlich so wäre), dann kann man sagen, dass die Mindestanzahl der Münzen aus so vielen maximal großen Münzen besteh, wie in den Betrag passen plus was auch immer man für den Restbetrag mit den restlichen Münzgrößen benötigt. Zum Beispiel kann man sagen, dass man für 9,88 Euro mindestens 4 Münzen brauchet (nämlich 4 Münzen zu 2 Euro) plus so viele, wie man mindestens für 1,88 Euro (den Restbetrag) braucht. "
   ]
  },
  {
   "cell_type": "code",
   "execution_count": null,
   "id": "0fbdab9f",
   "metadata": {},
   "outputs": [],
   "source": [
    "def MiniMuenz(M, b):\n",
    "\n",
    "\n",
    "# Hier kommt Ihr Code\n",
    "\n",
    "E = [200, 100, 50, 20, 10, 5, 2, 1]\n",
    "\n",
    "print(MiniMuenz(E, 988))  # Erwartung: Es wird 11 ausgegeben\n",
    "print(MiniMuenz(E, 50))  # Erwartung: Es wird 1 ausgegeben\n",
    "print(MiniMuenz(E, 100000))  # Erwartung: Es wird 500 ausgegeben\n",
    "print(MiniMuenz(E, 389))  # Erwartung: Es wird 8 ausgegeben"
   ]
  },
  {
   "cell_type": "markdown",
   "id": "18fd2149",
   "metadata": {},
   "source": [
    "## Aufgabe 4: Binäre Suche\n",
    "\n",
    "### a) Mit unveränderter Suchliste\n",
    "\n",
    "Betrachten Sie die Lösung der früheren Aufgabe \"Binäre Suche\" und erinnern Sie sich daran, wie eine binäre Suche funktioniert. Schreiben Sie dann eine neue Funktion `Suche(H,l,r,x)`, die überprüft, ob der Wert `x` in der sortierten Liste `H` zwischen der `l`-ten und der `r`-ten Position vorkommt und rekursiv nach dem folgenden Prinzip arbeitet:\n",
    "\n",
    "- Wenn der linke Rand des Suchbereichs <code>l</code> gleich dem rechten Rand <code>r</code> ist, gib zurück, ob an dieser Stelle der gesuchte Wert `x` steht (`True`) oder nicht (`False`).\n",
    "- Ansonsten betrachte das Element in der Mitte des durch <code>l</code> (linker Rand) und <code>r</code> (rechter Rand) gegebenen Suchbereichs.\n",
    "- Wenn dieses Element gleich dem gesuchten <code>x</code> ist, dann gib <code>True</code> zurück.\n",
    "- Wenn nicht, dann stelle fest, ob in der ersten oder der zweiten Hälfte des Suchbereichs weiter gesucht werden soll, und passe die\n",
    "Grenzen entsprechend an, und rufe rekursiv die Suchfunktion mit dem neuen (verkleinerten) Suchbereich auf.\n",
    "    \n",
    "Der Rückgabewert der Funktion soll `True` oder `False` sein, je nachdem ob der gesuchte Wert `x` in der Liste `H` zwischen den Positionen `l` und `r` vorkommt oder nicht."
   ]
  },
  {
   "cell_type": "code",
   "execution_count": null,
   "id": "1356e95a",
   "metadata": {},
   "outputs": [],
   "source": [
    "def Suche(H, l, r, x):\n",
    "\n",
    "\n",
    "# Hier kommt Ihr Code\n",
    "\n",
    "A = [2, 4, 5, 9, 12, 12, 22, 26, 30, 31, 38, 40, 41, 42]\n",
    "print(Suche(A, 0, len(A) - 1, 40))  # Erwartung: Es wird True ausgegeben\n",
    "print(Suche(A, 0, len(A) - 1, 2))  # Erwartung: Es wird True ausgegeben\n",
    "print(Suche(A, 0, len(A) - 1, 42))  # Erwartung: Es wird True ausgegeben\n",
    "print(Suche(A, 0, len(A) - 1, 39))  # Erwartung: Es wird Falsee ausgegeben"
   ]
  },
  {
   "cell_type": "markdown",
   "id": "a01a27cb",
   "metadata": {},
   "source": [
    "### b) Mit immer wieder halbierter Suchliste\n",
    "\n",
    "Jetzt ändern wir die Funktion dahingehend ab, dass wir keine Grenzen des Suchbereichs angeben, sodern jedes mal die gesamte Liste als Suchbereich zählt. Die Parameter `l` und `r` entfallen also. Stattdessen werden die rekursiven Aufrufe mit tatsächlichen Teilen der Liste `H`, nämlich `H[0:n//2]` und `H[n//2:len(h)]` ausgeführt."
   ]
  },
  {
   "cell_type": "code",
   "execution_count": null,
   "id": "6d09d0fa",
   "metadata": {},
   "outputs": [],
   "source": [
    "def Suche2(H, x):\n",
    "\n",
    "\n",
    "# Hier kommt Ihr Code\n",
    "\n",
    "A = [2, 4, 5, 9, 12, 12, 22, 26, 30, 31, 38, 40, 41, 42]\n",
    "print(Suche2(A, 40))  # Erwartung: Es wird True ausgegeben\n",
    "print(Suche2(A, 2))  # Erwartung: Es wird True ausgegeben\n",
    "print(Suche2(A, 42))  # Erwartung: Es wird True ausgegeben\n",
    "print(Suche2(A, 39))  # Erwartung: Es wird Falsee ausgegeben"
   ]
  },
  {
   "cell_type": "markdown",
   "id": "328780e0",
   "metadata": {},
   "source": [
    "## Aufgabe 5: Sortieren durch Mischen (Merge-Sort)\n",
    "\n",
    "### a) Rekursives Mischen\n",
    "\n",
    "Das folgende Python-Programm enthält eine Funktion `mische(A,B)`, die zwei sortierte Listen\n",
    "`A` und `B` als Argumente erwartet und als Funktionswert eine Liste zurückgibt, die auch sortiert ist und alle Elemente von `A` und `B` enthält. Das Programm definiert zum Auprobieren der Mischfunktion zwei sortierte Listen `X` und `Y` und ruft\n",
    "`mische(X,Y)` auf und druckt das Ergebnis auf dem Bildschirm aus.\n",
    "\n",
    "Das Arbeitsprinzip ist das folgende: Wenn `A` oder `B` leer ist, dann ist das Ergebnis jeweils die andere Liste. \n",
    "Wenn das vorderste Element von `A` vor dem vordersten Element von `B` kommt, dann ist das\n",
    "Ergebnis das vorderste Element von `A` gefolgt von der Mischung des Restes von `A` mit ganz `B`. Sonst ist das Ergebnis das vorderste Element von `B` gefolgt von der Mischung des Restes von `B` mit ganz `A`.\n",
    "\n",
    "Tipp: Sie können zwei Listen zu einer zusammenführen, indem Sie sie einfach addieren, d.h. z.B.\n",
    "`[1]+[2,3,4]` ergibt `[1,2,3,4]`\n",
    "\n",
    "Ersetzen Sie die ausgeixten Teile des Programms durch richtigen Python-Code, so dass das Programm richtig mischt."
   ]
  },
  {
   "cell_type": "code",
   "execution_count": null,
   "id": "a8d78e4c",
   "metadata": {},
   "outputs": [],
   "source": [
    "def mische(A, B):\n",
    "    if len(A) == 0:\n",
    "        return B\n",
    "    if len(B) == 0:\n",
    "        return A\n",
    "    if A[0] < B[0]:\n",
    "        return xxxxx + xxxxx\n",
    "    else:\n",
    "        return xxxxx + xxxxx\n",
    "\n",
    "\n",
    "X = [2, 11, 13, 27, 29]\n",
    "Y = [1, 4, 5, 17, 18, 20]\n",
    "print(mische(X, Y))"
   ]
  },
  {
   "cell_type": "markdown",
   "id": "174321e9",
   "metadata": {},
   "source": [
    "### b) Rekursives Sortieren\n",
    "\n",
    "Schreiben Sie zum schon vorhandenen Mischen-Programm eine weitere Funktion `sort(L)`, die eine Liste `L` als Argument erhält und nach dem folgenden Prinzip sortiert:\n",
    "\n",
    "Sei `n` die Länge von `L`. \n",
    "- Falls `n` kleiner als 2 ist, dann ist es ganz einfach, die Liste zu sortieren: sie ist nämlich schon sortiert, und somit kann für\n",
    "diesen Fall einfach `L` selbst wieder zurückgegeben werden.\n",
    "- Falls `n` größer als 1 ist, dann ist die Liste so groß, dass man sie in zwei Teile teilen kann, nämlich die vordere Hälfte `L[0:n//2]` und die hintere Hälfte `L[n//2:n]`. Jetzt kann jede der Hälften durch einen rekursiven Aufruf sortiert\n",
    "werden.\n",
    "- Die sortierten Listen werden dann mit Hilfe der eben gefertigten Misch-Funktion zusammengemischt und dann als Funktionsergebnis zurückgegeben. Testen Sie Ihr Programm mit den Zeilen `Z=[13,2,27,29,11,4,5,1,18,17,20]` und dann `print(sort(Z))`."
   ]
  },
  {
   "cell_type": "code",
   "execution_count": null,
   "id": "ac7a2a46",
   "metadata": {},
   "outputs": [],
   "source": [
    "def sort(L):\n",
    "\n",
    "\n",
    "# Hier kommt Ihr Code\n",
    "\n",
    "print(sort([20, 2, 1, 13, 4, 5, 11, 17, 29, 27, 18]))"
   ]
  }
 ],
 "metadata": {
  "kernelspec": {
   "display_name": "Python 3 (ipykernel)",
   "language": "python",
   "name": "python3"
  },
  "language_info": {
   "codemirror_mode": {
    "name": "ipython",
    "version": 3
   },
   "file_extension": ".py",
   "mimetype": "text/x-python",
   "name": "python",
   "nbconvert_exporter": "python",
   "pygments_lexer": "ipython3",
   "version": "3.9.18"
  }
 },
 "nbformat": 4,
 "nbformat_minor": 5
}
