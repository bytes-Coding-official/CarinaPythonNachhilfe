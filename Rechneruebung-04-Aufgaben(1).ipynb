{
 "cells": [
  {
   "cell_type": "markdown",
   "id": "24512bf7",
   "metadata": {},
   "source": [
    "# 4. Rechnerübung: Funktionen\n",
    "\n",
    "## Aufgabe 1: Maximum zweier Zahlen berechnen\n",
    "\n",
    "Definieren Sie eine Funktion mit Namen `maximum` mit zwei Argumenten.\n",
    "Die Funktion soll als Ergebnis das Maximum der beiden Ihr übergebenen Argumente zurückgeben (d.h. die größere der beiden oder im Falle der Gleichheit den Wert den beide haben).\n",
    "Wenn Sie die Funktion korrekt programmiert haben, müssten Sie die folgende Zelle ausführen können und die erwarteten Ergebnisse beobachten können."
   ]
  },
  {
   "cell_type": "code",
   "execution_count": null,
   "id": "7766fdcd",
   "metadata": {},
   "outputs": [],
   "source": [
    "# Hier kommt Ihr Code\n",
    "def test(x, y):\n",
    "    return None\n",
    "\n",
    "\n",
    "# Das was jetzt kommt dient zum Ausprobieren \n",
    "# (und klappt natürlich erst wenn die Funktion definiert ist).\n",
    "\n",
    "print(maximum(3, 7))  # Erwartung: Es wird 7 ausgegeben\n",
    "print(maximum(maximum(4, 2), maximum(5, 1)))  # Erwartung: Es wird 5 ausgegeben\n",
    "a = 8;\n",
    "b = 10;\n",
    "print(maximum(a, b))  # Erwartung: Es wird 10 ausgegeben "
   ]
  },
  {
   "cell_type": "markdown",
   "id": "60537650",
   "metadata": {},
   "source": [
    "## Aufgage 2: Minimum einer Liste berechnen\n",
    "\n",
    "Definieren Sie eine Funktion mit Namen `minimum` die ein Argument,\n",
    "nämlich eine Liste erwartet. Die Funktion soll als Ergebnis den Wert\n",
    "des kleinsten Elements der Liste als Funktionswert zurückgeben.\n",
    "Wenn Sie die Funktion korrekt programmiert haben, müssten Sie die folgende Zelle ausführen können und die erwarteten Ergebnisse beobachten können.\n",
    "\n",
    "Tipp zur Vorgehensweise: Nehmen Sie anfangs an, das 0-te Element sei\n",
    "das Minimum. Dann durchlaufen Sie alle Elemente der Liste und\n",
    "prüfen nach, ob das gerade betrachtete Element kleiner ist als das,\n",
    "was sie bisher als das Minimum angenommen hatten. Und wenn dem\n",
    "so ist, dann merken Sie sich eben ab da ein neues Minimum. Oder orientieren Sie sich am Flussdiagramm für das Maximum, das wir in der Vorlesung mal hatten."
   ]
  },
  {
   "cell_type": "code",
   "execution_count": null,
   "id": "519ddaa2",
   "metadata": {},
   "outputs": [],
   "source": [
    "# Hier kommt Ihr Code\n",
    "\n",
    "\n",
    "# Das was jetzt kommt dient zum Ausprobieren \n",
    "# (und klappt natürlich erst wenn die Funktion definiert ist).\n",
    "\n",
    "print(minimum([6, 7]))  # Erwartung: Es wird 6 ausgegeben\n",
    "print(minimum([minimum([4, 2, 8]), minimum([5])]))  # Erwartung: Es wird 2 ausgegeben\n",
    "A = [4, 6, 3, 8, 9, 5, 5, 7];\n",
    "print(minimum(A))  # Erwartung: Es wird 3 ausgegeben "
   ]
  },
  {
   "cell_type": "markdown",
   "id": "0ea3ad93",
   "metadata": {},
   "source": [
    "## Aufgabe 3: Liste von Duplikaten bereinigen\n",
    "\n",
    "Definieren Sie eine Funktion `unique`, die als Argument eine Liste erwartet und als Ergebnis eine Liste zurück gibt. Die Ergebnis-List soll die gleiche sein, wie die Argument-Liste, nur ohne Duplikate (also mehrfach vorkommende Werte in der Argumentliste sollen in der Ergebnisliste nur einmalig auftauchen). Verwenden Sie nur die bisher in der Vorlesung behandelten Anweisungen (also verwenden Sie keine `in` Abfrage und keine `remove` Funktion usw.)."
   ]
  },
  {
   "cell_type": "code",
   "id": "e3a15988",
   "metadata": {
    "ExecuteTime": {
     "end_time": "2024-06-14T15:37:45.107398Z",
     "start_time": "2024-06-14T15:37:44.957112Z"
    }
   },
   "source": [
    "# Hier kommt Ihr Code\n",
    "\n",
    "\n",
    "unique = lambda liste: list(dict.fromkeys(liste))  #MAGIG \n",
    "\n",
    "\n",
    "def unique(liste):\n",
    "    liste_neu = []\n",
    "    a = 0\n",
    "    while a < len(liste):\n",
    "        element = liste[a]\n",
    "        if element not in liste_neu:\n",
    "            liste_neu[a] = element\n",
    "\n",
    "        a += 1\n",
    "    return liste_neu\n",
    "\n",
    "\n",
    "# Das was jetzt kommt dient zum Ausprobieren \n",
    "# (und klappt natürlich erst wenn die Funktion definiert ist).\n",
    "\n",
    "print(unique([1, 2, 2, 3, 5, 5, 2, 4]))  # Erwartung: Es wird [1,2,3,5,4] ausgegeben\n",
    "print(unique([1, 1, 1, 1, 1]))  # Erwartung: Es wird [1] ausgegeben\n",
    "print(unique([2, 3, 4]))  # Erwartung: Es wird [2,3,4] ausgegeben\n",
    "print(unique([]))  # Erwartung: Es wird [] ausgegeben"
   ],
   "outputs": [
    {
     "ename": "TypeError",
     "evalue": "x() missing 1 required positional argument: 'füge_ne_funktion_ein'",
     "output_type": "error",
     "traceback": [
      "\u001B[1;31m---------------------------------------------------------------------------\u001B[0m",
      "\u001B[1;31mTypeError\u001B[0m                                 Traceback (most recent call last)",
      "Cell \u001B[1;32mIn[1], line 20\u001B[0m\n\u001B[0;32m     17\u001B[0m \u001B[38;5;28;01mdef\u001B[39;00m \u001B[38;5;21mx\u001B[39m(füge_ne_funktion_ein):\n\u001B[0;32m     18\u001B[0m     füge_ne_funktion_ein()\n\u001B[1;32m---> 20\u001B[0m \u001B[43mx\u001B[49m\u001B[43m(\u001B[49m\u001B[43m)\u001B[49m\n\u001B[0;32m     23\u001B[0m \u001B[38;5;66;03m# Das was jetzt kommt dient zum Ausprobieren \u001B[39;00m\n\u001B[0;32m     24\u001B[0m \u001B[38;5;66;03m# (und klappt natürlich erst wenn die Funktion definiert ist).\u001B[39;00m\n\u001B[0;32m     26\u001B[0m \u001B[38;5;28mprint\u001B[39m(unique([\u001B[38;5;241m1\u001B[39m,\u001B[38;5;241m2\u001B[39m,\u001B[38;5;241m2\u001B[39m,\u001B[38;5;241m3\u001B[39m,\u001B[38;5;241m5\u001B[39m,\u001B[38;5;241m5\u001B[39m,\u001B[38;5;241m2\u001B[39m,\u001B[38;5;241m4\u001B[39m]))  \u001B[38;5;66;03m# Erwartung: Es wird [1,2,3,5,4] ausgegeben\u001B[39;00m\n",
      "\u001B[1;31mTypeError\u001B[0m: x() missing 1 required positional argument: 'füge_ne_funktion_ein'"
     ]
    }
   ],
   "execution_count": 1
  },
  {
   "cell_type": "markdown",
   "id": "b5ce179a",
   "metadata": {},
   "source": [
    "## Aufgabe 4: Verschiedene Elemente zählen\n",
    "\n",
    "Schreiben Sie eine Funktion `Verschiedene(A)`, die für eine gegebene Liste `A` berechnet und zurück gibt, wie viele verschiedene Elemente enthalten sind. Benutzen Sie dazu die schon programmierte Funktion `unique` aus der voherigen Aufgabe."
   ]
  },
  {
   "cell_type": "code",
   "execution_count": null,
   "id": "13ca6909",
   "metadata": {},
   "outputs": [],
   "source": [
    "# Hier kommt Ihr Code\n",
    "\n",
    "\n",
    "# Das was jetzt kommt dient zum Ausprobieren \n",
    "# (und klappt natürlich erst wenn die Funktion definiert ist).\n",
    "\n",
    "print(Verschiedene([1, 2, 2, 3, 5, 5, 2, 4]))  # Erwartung: Es wird 5 ausgegeben\n",
    "print(Verschiedene([1, 1, 1, 1, 1]))  # Erwartung: Es wird 1 ausgegeben\n",
    "print(Verschiedene([2, 3, 4]))  # Erwartung: Es wird 3 ausgegeben\n",
    "print(Verschiedene([]))  # Erwartung: Es wird 0 ausgegeben"
   ]
  },
  {
   "cell_type": "markdown",
   "id": "242d8873",
   "metadata": {},
   "source": [
    "## Aufgabe 5: Durchschnitt aller Elemente einer Liste berechnen\n",
    "\n",
    "Schreiben Sie eine Funktion `Schnitt(L)` die das arithmetische Mittel (auch Bekannt als \"Durchschnitt\") aller Zahlen in der übergebenen Liste `L` berechnet und zurück gibt."
   ]
  },
  {
   "cell_type": "code",
   "execution_count": null,
   "id": "aae716e1",
   "metadata": {},
   "outputs": [],
   "source": [
    "# Hier kommt Ihr Code\n",
    "\n",
    "\n",
    "# Das was jetzt kommt dient zum Ausprobieren \n",
    "# (und klappt natürlich erst wenn die Funktion definiert ist).\n",
    "\n",
    "print(Schnitt([1, 2, 2, 3, 5, 5, 2, 4]))  # Erwartung: Es wird 3.0 ausgegeben\n",
    "print(Schnitt([1, 1, 1, 1, 1]))  # Erwartung: Es wird 1.0 ausgegeben\n",
    "print(Schnitt([2, 3, 4]))  # Erwartung: Es wird 3.0 ausgegeben\n"
   ]
  },
  {
   "cell_type": "markdown",
   "id": "a1709168",
   "metadata": {},
   "source": [
    "## Aufgabe 6: Nachschlagen\n",
    "\n",
    "Programmieren Sie eine Funktion `Telefonnummer(Name,NATO,Nummern)`, die drei Argumente erwartet: Einen Hasennamen, eine Liste mit Hasennamen und eine Liste mit Telefonnummern. Hierbei gehen Sie davon aus, dass der Hase, dessen Name in `Hasen[x]` steht, die Telefonnummer `Nummern[x]` hat. Die Funktion soll zu einem Hasennamen dessen Telefonnummer zurückgeben oder den Wert `-1` falls der übergebene Hase nicht in der Liste `Hasen` vorkommt."
   ]
  },
  {
   "cell_type": "code",
   "execution_count": null,
   "id": "8bb64969",
   "metadata": {},
   "outputs": [],
   "source": [
    "H = ['Alpha ', 'Bravo', 'Charlie', 'Delta', 'Echo', 'Foxtrott', 'Golf', 'Hotel', 'India']\n",
    "M = [14159, 26535, 89793, 23846, 26433, 83270, 50288, 41971, 69399]\n",
    "dictionary = zip(H, M)\n",
    "\n",
    "\n",
    "# Hier kommt Ihr Code\n",
    "def Telefonnummer(Name, NATO, Nummern):\n",
    "    if Name not in H:\n",
    "        return -1\n",
    "    return M[H.index(Name)]\n",
    "\n",
    "\n",
    "Telefonnummer = lambda Name, NATO, Nummern: zip(NATO, Nummern).get(Name, -1)\n",
    "\n",
    "def Telefonnummer(Name, NATO, Nummern ):\n",
    "    for i in range(len(H)):\n",
    "        if NATO[i] == Name:\n",
    "            return Nummern[i]\n",
    "    return -1\n",
    "\n",
    "# Das was jetzt kommt dient zum Ausprobieren \n",
    "# (und klappt natürlich erst wenn die Funktion definiert ist).\n",
    "\n",
    "print(Telefonnummer(\"Hoppel\", H, M))  # Erwartung: Es wird 26535 ausgegeben\n",
    "print(Telefonnummer(\"Vau\", H, M))  # Erwartung: Es wird 69399 ausgegeben\n",
    "print(Telefonnummer(\"Tabbs\", H, M))  # Erwartung: Es wird -1 ausgegeben"
   ]
  }
 ],
 "metadata": {
  "kernelspec": {
   "display_name": "Python 3 (ipykernel)",
   "language": "python",
   "name": "python3"
  },
  "language_info": {
   "codemirror_mode": {
    "name": "ipython",
    "version": 3
   },
   "file_extension": ".py",
   "mimetype": "text/x-python",
   "name": "python",
   "nbconvert_exporter": "python",
   "pygments_lexer": "ipython3",
   "version": "3.9.18"
  }
 },
 "nbformat": 4,
 "nbformat_minor": 5
}
