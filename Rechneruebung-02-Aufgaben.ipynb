{
 "cells": [
  {
   "cell_type": "markdown",
   "id": "24512bf7",
   "metadata": {},
   "source": [
    "# 2. Rechnerübung: Progammablaufsteuerung\n",
    "\n",
    "## Aufgabe 1: Schleifen\n",
    "\n",
    "Lassen Sie das folgende Programm laufen und erklären Sie sich, wie es funktioniert."
   ]
  },
  {
   "cell_type": "code",
   "execution_count": null,
   "id": "1a88a849",
   "metadata": {},
   "outputs": [],
   "source": [
    "n = 1\n",
    "while n < 10:\n",
    "    print(n)\n",
    "    n = n + 1"
   ]
  },
  {
   "cell_type": "markdown",
   "id": "750a6d39",
   "metadata": {},
   "source": [
    "### a) Einfache Schleife\n",
    "\n",
    "Wenn Sie es verstanden haben, dann schreiben Sie mal ein entsprechendes Programm, das die Zahlen von 9 bis 1 rückwärts ausgibt und dazu auch eine `while`-Schleife verwendet."
   ]
  },
  {
   "cell_type": "code",
   "execution_count": null,
   "id": "21741433",
   "metadata": {},
   "outputs": [],
   "source": [
    "# Hier kommen Ihre Anweisungen\n"
   ]
  },
  {
   "cell_type": "markdown",
   "id": "dbaa2c93",
   "metadata": {},
   "source": [
    "### b) Geschachtelte Schleife\n",
    "\n",
    "Betrachten Sie das folgende Programm und sagen Sie voraus, was es ausgeben wird. Vergleichen Sie dann Ihre Vorhersage mit dem, was wirklich passiert."
   ]
  },
  {
   "cell_type": "code",
   "id": "423ea893",
   "metadata": {
    "ExecuteTime": {
     "end_time": "2024-05-31T16:59:46.934008Z",
     "start_time": "2024-05-31T16:59:46.930310Z"
    }
   },
   "source": [
    "n = 1\n",
    "while n < 6:\n",
    "    m = 1\n",
    "    while m < n:\n",
    "        print(m)\n",
    "        m = m + 1\n",
    "    n = n + 1\n",
    "\n"
   ],
   "outputs": [
    {
     "ename": "SyntaxError",
     "evalue": "invalid syntax (1540989870.py, line 14)",
     "output_type": "error",
     "traceback": [
      "\u001B[1;36m  Cell \u001B[1;32mIn[1], line 14\u001B[1;36m\u001B[0m\n\u001B[1;33m    VON BIS\u001B[0m\n\u001B[1;37m        ^\u001B[0m\n\u001B[1;31mSyntaxError\u001B[0m\u001B[1;31m:\u001B[0m invalid syntax\n"
     ]
    }
   ],
   "execution_count": 1
  },
  {
   "cell_type": "markdown",
   "id": "8c6f84e0",
   "metadata": {},
   "source": [
    "### c) Nichtquadratzahlen ausgeben\n",
    "\n",
    "Schreiben Sie jetzt ein Progrämmchen, das alle Zahlen von 1 bis 81 ausgibt, die keine Quadratzahlen sind. Verwenden Sie dazu keine `if`-Anweisung. Passen Sie ein bisschen darauf auf, dass ihr Programm nicht unendlich lange läuft. Wenn Sie in so eine <i>Endlosschleife</i> geraten sind, können Sie den Python-Interpreter abschießen, indem Sie auf das Stopp-Quadrat neben dem Run-Button klicken."
   ]
  },
  {
   "cell_type": "code",
   "id": "b0ac57e0",
   "metadata": {
    "ExecuteTime": {
     "end_time": "2024-05-31T17:16:24.173036Z",
     "start_time": "2024-05-31T17:16:24.169531Z"
    }
   },
   "source": [
    "n = 1\n",
    "m = 1\n",
    "while n <= 9:\n",
    "    while m < n * n:\n",
    "        print(m)\n",
    "        m = m + 1\n",
    "    n = n + 1\n",
    "    m = m + 1"
   ],
   "outputs": [
    {
     "name": "stdout",
     "output_type": "stream",
     "text": [
      "2\n",
      "3\n",
      "5\n",
      "6\n",
      "7\n",
      "8\n",
      "10\n",
      "11\n",
      "12\n",
      "13\n",
      "14\n",
      "15\n",
      "17\n",
      "18\n",
      "19\n",
      "20\n",
      "21\n",
      "22\n",
      "23\n",
      "24\n",
      "26\n",
      "27\n",
      "28\n",
      "29\n",
      "30\n",
      "31\n",
      "32\n",
      "33\n",
      "34\n",
      "35\n",
      "37\n",
      "38\n",
      "39\n",
      "40\n",
      "41\n",
      "42\n",
      "43\n",
      "44\n",
      "45\n",
      "46\n",
      "47\n",
      "48\n",
      "50\n",
      "51\n",
      "52\n",
      "53\n",
      "54\n",
      "55\n",
      "56\n",
      "57\n",
      "58\n",
      "59\n",
      "60\n",
      "61\n",
      "62\n",
      "63\n",
      "65\n",
      "66\n",
      "67\n",
      "68\n",
      "69\n",
      "70\n",
      "71\n",
      "72\n",
      "73\n",
      "74\n",
      "75\n",
      "76\n",
      "77\n",
      "78\n",
      "79\n",
      "80\n"
     ]
    }
   ],
   "execution_count": 6
  },
  {
   "cell_type": "markdown",
   "id": "9e9d3720",
   "metadata": {},
   "source": [
    "## Aufgabe 2: Listeninhalte ausgeben\n",
    "\n",
    "### a) Hasennamen ausgeben\n",
    "Schreiben Sie ein Programm das eine Liste mit Hasennamen anlegt (mindestens 7 Stück). Dann verwenden Sie eine `while`-Schleife, die sämtliche Hasennamen aus der Liste auf dem Bildschirm ausgibt.\n",
    "\n",
    "Hinweis: Die Funktion `len(L)` liefert als Ergebnis die Länge der Liste L."
   ]
  },
  {
   "cell_type": "code",
   "id": "f098fa3c",
   "metadata": {
    "ExecuteTime": {
     "end_time": "2024-05-31T17:49:29.599264Z",
     "start_time": "2024-05-31T17:49:29.595756Z"
    }
   },
   "source": [
    "Hasen = ['Hoppel', 'PHoppel2', 'Hoppel3', 'Hoppel4', 'SnHoppel6', 'OHoppel5', 'RHoppel7', 'SHoppel8', ]  # machen Sie selbst den Rest\n",
    "# Hier kommen Ihre Anweisungen\n",
    "\n",
    "n = 0\n",
    "while n < len(Hasen):\n",
    "    print(Hasen[n])\n",
    "    n = n + 1\n",
    "\n"
   ],
   "outputs": [
    {
     "name": "stdout",
     "output_type": "stream",
     "text": [
      "Hoppel\n",
      "PHoppel2\n",
      "Hoppel3\n",
      "Hoppel4\n",
      "SnHoppel6\n",
      "OHoppel5\n",
      "RHoppel7\n",
      "SHoppel8\n"
     ]
    }
   ],
   "execution_count": 8
  },
  {
   "cell_type": "markdown",
   "id": "8600b5fe",
   "metadata": {},
   "source": [
    "### b) Manche Hasennamen ausgeben\n",
    "Modifizieren Sie Ihr Programm so, dass nur die Hasennamen, die mit H bis Q anfangen auf dem Bildschirm ausgegeben werden, die anderen nicht. Sorgen Sie dafür, dass\teinige (aber nicht alle) auch tatsächlich mit H bis Q anfangen. Verwenden Sie dabei zur Abwechslung eine `for`-Schleife.\n",
    "\n",
    "Hinweis: Wenn man Buchstaben verlgeicht, dann gilt `\"A\"<\"B\"` und `\"A\"<\"C\"` und `\"B\"<\"C\"` und so weiter. Allerdings gilt auch `\"B\"<\"a\"`, denn alle Großbuchstaben sind kleiner als jeder Kleinbuchstabe."
   ]
  },
  {
   "cell_type": "code",
   "id": "1073be4c",
   "metadata": {
    "ExecuteTime": {
     "end_time": "2024-05-31T17:50:13.499881Z",
     "start_time": "2024-05-31T17:50:13.496737Z"
    }
   },
   "source": [
    "# Hier kommen Ihre Anweisungen\n",
    "for hase in Hasen:  #range(1-100...) -> [1,2,3,4,5,6,7,8....]\n",
    "    if \"H\" <= hase[0] <= \"Q\":\n",
    "        print(hase)\n",
    "\n",
    "\n"
   ],
   "outputs": [
    {
     "name": "stdout",
     "output_type": "stream",
     "text": [
      "Hoppel\n",
      "PHoppel2\n",
      "Hoppel3\n",
      "Hoppel4\n",
      "OHoppel5\n"
     ]
    }
   ],
   "execution_count": 11
  },
  {
   "cell_type": "markdown",
   "id": "7eff62e0",
   "metadata": {},
   "source": [
    "## Aufgabe 3: Ratespiel\n",
    "\n",
    "Programmieren Sie das folgende Computerspiel: Der Benutzer denkt sich eine Zahl zwischen 0 und 100. Der Computer muss durch wiederholtes\n",
    "Fragen, ob die Zahl größer irgend einem x ist, herausfinden, welche Zahl der Mensch sich gedacht hat. Jede Frage muss der Mensch mit “ja“\n",
    "oder “nein“ beantworten (also eintippen). Verwenden Sie dazu das raw_input Kommando, dann müssen Sie keine Gänsefüßchen eingeben."
   ]
  },
  {
   "cell_type": "code",
   "id": "6b815970",
   "metadata": {
    "ExecuteTime": {
     "end_time": "2024-05-31T18:09:40.219361Z",
     "start_time": "2024-05-31T18:09:35.314085Z"
    }
   },
   "source": [
    "# Hier kommen Ihre Anweisungen\n",
    "rate_alt = 0\n",
    "rate = 100\n",
    "x = int(input(\"Denk an ne Zahl\"))\n",
    "\n",
    "while rate != x:\n",
    "    \n",
    "    antwort = input(\"ist deine zahl größer als {}\".format(rate))\n",
    "    if antwort == \"ja\":\n",
    "        rate = (rate - rate_alt) / 2 + rate\n",
    "    else:\n",
    "        rate = rate - (rate - rate_alt) / 2\n",
    "\n",
    "print(\"Deine zahl ist:\",rate)\n",
    "\n",
    "\n",
    "\n"
   ],
   "outputs": [
    {
     "name": "stdout",
     "output_type": "stream",
     "text": [
      "Deine zahl ist: 75.0\n"
     ]
    }
   ],
   "execution_count": 22
  },
  {
   "metadata": {},
   "cell_type": "code",
   "outputs": [],
   "execution_count": null,
   "source": "",
   "id": "2a63a444096b154c"
  }
 ],
 "metadata": {
  "kernelspec": {
   "display_name": "Python 3 (ipykernel)",
   "language": "python",
   "name": "python3"
  },
  "language_info": {
   "codemirror_mode": {
    "name": "ipython",
    "version": 3
   },
   "file_extension": ".py",
   "mimetype": "text/x-python",
   "name": "python",
   "nbconvert_exporter": "python",
   "pygments_lexer": "ipython3",
   "version": "3.9.18"
  }
 },
 "nbformat": 4,
 "nbformat_minor": 5
}
