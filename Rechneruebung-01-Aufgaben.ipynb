{
 "cells": [
  {
   "cell_type": "markdown",
   "id": "24512bf7",
   "metadata": {},
   "source": [
    "# 1. Rechnerübung: Variablen, Aus- und Eingaben, Listen\n",
    "\n",
    "## Zurechtfinden\n",
    "\n",
    "Finden Sie sich in Ihrer Entwicklungsumgebung zurecht und stellen Sie sicher, dass Sie Python Kommandos ausführen können und kleine Progämmchen erstellen und laufen lassen können. \n",
    "\n",
    "## Aufgabe 1: Ausgabe von Werten mit Python\n",
    "\n",
    "Gehen Sie die folgenden Anweisungen durch. Bevor Sie sie eingeben und laufen lassen, sagen Sie voraus, was die Ausgabe sein wird. Freuen Sie sich, wenn Sie Recht gehabt haben, und finden Sie eine Erklärung, wenn nicht. Da die Ausdrücke so kurz sind, sollten Sie unbedingt aus lerntechnischen Gründen, die Ausdrücke selbst komplett tippen und nich mit Copy/Paste arbeiten. Das gilt auch für die allermeisten zukünftigen Aufgaben.<br>\n",
    "\n",
    "Die folgende Zelle enthält schon zwei Anweisungen. Lassen Sie die stehen. Und fügen Sie dann auch in diese Zelle eine Anweisung nach der anderen dazu. Wenn ein Anweisung eine Fehlermeldung erzeugen sollte, dann nehmen Sie sie wieder heraus. Am Ende der Aufgabe sollen dann alle nicht-fehlererzeugenden Anweisung untereinander stehen und ausgeführt werden könen:<br><br>\n",
    "\n",
    "<table>\n",
    "<tr style='background-color:white'><td>\n",
    "<table>\n",
    " <tr style='background-color:white'>\n",
    "  <td style='text-align:left'>a)</td><td style='text-align:left'><code>x=x</code></td>\n",
    " </tr>\n",
    " <tr style='background-color:white'>\n",
    "  <td>  </td><td style='text-align:left'><code>print(x)</code></td></tr>\n",
    "</table>\n",
    "</td>\n",
    "<td>\n",
    "<table>\n",
    " <tr style='background-color:white'>\n",
    "  <td style='text-align:left'>b)</td><td style='text-align:left'><code>3=x</code></td>\n",
    " </tr>\n",
    " <tr style='background-color:white'>\n",
    "  <td>  </td><td style='text-align:left'><code>print(x)</code></td></tr>\n",
    "</table>\n",
    "</td>\n",
    "<td>\n",
    "<table>\n",
    " <tr style='background-color:white'>\n",
    "  <td style='text-align:left'>c)</td><td style='text-align:left'><code>1=1</code></td>\n",
    " </tr>\n",
    " <tr style='background-color:white'>\n",
    "  <td>  </td><td style='text-align:left'><code>print(1)</code></td></tr>\n",
    "</table>\n",
    "</td>\n",
    "<td>\n",
    "<table>\n",
    " <tr style='background-color:white'>\n",
    "  <td style='text-align:left'>d)</td><td style='text-align:left'><code>x+y</code></td>\n",
    " </tr>\n",
    " <tr style='background-color:white'>\n",
    "  <td>  </td><td style='text-align:left'><code>print(x,y)</code></td></tr>\n",
    "</table>\n",
    "</td>\n",
    "<td>\n",
    "<table>\n",
    " <tr style='background-color:white'>\n",
    "  <td style='text-align:left'>e)</td><td style='text-align:left'><code>print('x'+'y')</code></td>\n",
    " </tr>\n",
    " <tr style='background-color:white'>\n",
    "  <td>  </td><td style='text-align:left'></td></tr>\n",
    "</table>\n",
    "</td>\n",
    "</tr>\n",
    "<tr style='background-color:white'><td>\n",
    "<table>\n",
    " <tr style='background-color:white'>\n",
    "  <td style='text-align:left'>f)</td><td style='text-align:left'><code>y=print</code></td>\n",
    " </tr>\n",
    " <tr style='background-color:white'>\n",
    "  <td>  </td><td style='text-align:left'><code>print(y)</code></td></tr>\n",
    "</table>\n",
    "</td>\n",
    "<td>\n",
    "<table>\n",
    " <tr style='background-color:white'>\n",
    "  <td style='text-align:left'>g)</td><td style='text-align:left'><code>print(-----5)</code></td>\n",
    " </tr>\n",
    " <tr style='background-color:white'>\n",
    "  <td>  </td><td style='text-align:left'></td></tr>\n",
    "</table>\n",
    "</td>\n",
    "<td>\n",
    "<table>\n",
    " <tr style='background-color:white'>\n",
    "  <td style='text-align:left'>h)</td><td style='text-align:left'><code>x=x+1</code></td>\n",
    " </tr>\n",
    " <tr style='background-color:white'>\n",
    "  <td>  </td><td style='text-align:left'><code>print(x+1)</code></td></tr>\n",
    "</table>\n",
    "</td>\n",
    "<td>\n",
    "<table>\n",
    " <tr style='background-color:white'>\n",
    "  <td style='text-align:left'>i)</td><td style='text-align:left'><code>x=x+1j</code></td>\n",
    " </tr>\n",
    " <tr style='background-color:white'>\n",
    "  <td>  </td><td style='text-align:left'><code>print(x)</code></td></tr>\n",
    "</table>\n",
    "</td>\n",
    "<td>\n",
    "<table>\n",
    " <tr style='background-color:white'>\n",
    "  <td style='text-align:left'>j)</td><td style='text-align:left'><code>print(x*x)</code></td>\n",
    " </tr>\n",
    " <tr style='background-color:white'>\n",
    "  <td>  </td><td style='text-align:left'></td></tr>\n",
    "</table>\n",
    "</td>\n",
    "</tr>\n",
    "<tr style='background-color:white'><td>\n",
    "<table>\n",
    " <tr style='background-color:white'>\n",
    "  <td style='text-align:left'>k)</td><td style='text-align:left'><code>x=[3,2,1]</code></td>\n",
    " </tr>\n",
    " <tr style='background-color:white'>\n",
    "  <td>  </td><td style='text-align:left'><code>print(x)</code></td></tr>\n",
    "</table>\n",
    "</td>\n",
    "<td>\n",
    "<table>\n",
    " <tr style='background-color:white'>\n",
    "  <td style='text-align:left'>l)</td><td style='text-align:left'><code>x[1]=x[2]</code></td>\n",
    " </tr>\n",
    " <tr style='background-color:white'>\n",
    "  <td>  </td><td style='text-align:left'><code>print(x)</code></td></tr>\n",
    "</table>\n",
    "</td>\n",
    "<td>\n",
    "<table>\n",
    " <tr style='background-color:white'>\n",
    "  <td style='text-align:left'>m)</td><td style='text-align:left'><code>y=x[:]</code></td>\n",
    " </tr>\n",
    " <tr style='background-color:white'>\n",
    "  <td>  </td><td style='text-align:left'><code>print(y)</code></td></tr>\n",
    "</table>\n",
    "</td>\n",
    "<td>\n",
    "<table>\n",
    " <tr style='background-color:white'>\n",
    "  <td style='text-align:left'>n)</td><td style='text-align:left'><code>y=x+x</code></td>\n",
    " </tr>\n",
    " <tr style='background-color:white'>\n",
    "  <td>  </td><td style='text-align:left'><code>print(y)</code></td></tr>\n",
    "</table>\n",
    "</td>\n",
    "<td>\n",
    "<table>\n",
    " <tr style='background-color:white'>\n",
    "  <td style='text-align:left'>o)</td><td style='text-align:left'><code>print(x[x[2]])</code></td>\n",
    " </tr>\n",
    " <tr style='background-color:white'>\n",
    "  <td>  </td><td style='text-align:left'></td></tr>\n",
    "</table>\n",
    "</td>\n",
    "</tr>\n",
    "<tr style='background-color:white'><td>\n",
    "<table>\n",
    " <tr style='background-color:white'>\n",
    "  <td style='text-align:left'>p)</td><td style='text-align:left'><code>a=[3,6,[9,0],4][2][1]</code></td>\n",
    " </tr>\n",
    " <tr style='background-color:white'>\n",
    "  <td>  </td><td style='text-align:left'><code>print(x[a])</code></td></tr>\n",
    "</table>\n",
    "</td>\n",
    "<td>\n",
    "<table>\n",
    " <tr style='background-color:white'>\n",
    "  <td style='text-align:left'>q)</td><td style='text-align:left'><code>a=7/2-7//2</code></td>\n",
    " </tr>\n",
    " <tr style='background-color:white'>\n",
    "  <td>  </td><td style='text-align:left'><code>print(a,2*a)</code></td></tr>\n",
    "</table>\n",
    "</td>\n",
    "<td>\n",
    "<table>\n",
    " <tr style='background-color:white'>\n",
    "  <td style='text-align:left'>r)</td><td style='text-align:left'><code>print('3'*4)</code></td>\n",
    " </tr>\n",
    " <tr style='background-color:white'>\n",
    "  <td>  </td><td style='text-align:left'><code>print('3'*'4')</code></td></tr>\n",
    "</table>\n",
    "</td>\n",
    "<td>\n",
    "<table>\n",
    " <tr style='background-color:white'>\n",
    "  <td style='text-align:left'>s)</td><td style='text-align:left'><code>print([3]*4)</code></td>\n",
    " </tr>\n",
    " <tr style='background-color:white'>\n",
    "  <td>  </td><td style='text-align:left'><code>print(\"XY\"-\"Y\")</code></td></tr>\n",
    "</table>\n",
    "</td>\n",
    "<td>\n",
    "<table>\n",
    " <tr style='background-color:white'>\n",
    "  <td style='text-align:left'>t)</td><td style='text-align:left'><code>print([3]*[3])</code></td>\n",
    " </tr>\n",
    " <tr style='background-color:white'>\n",
    "  <td>  </td><td style='text-align:left'></td></tr>\n",
    "</table>\n",
    "</td>\n",
    "</tr>\n",
    "<tr style='background-color:white'><td>\n",
    "<table>\n",
    " <tr style='background-color:white'>\n",
    "  <td style='text-align:left'>u)</td><td style='text-align:left'><code>a=False or not True</code></td>\n",
    " </tr>\n",
    " <tr style='background-color:white'>\n",
    "  <td>  </td><td style='text-align:left'><code>print(a)</code></td></tr>\n",
    "</table>\n",
    "</td>\n",
    "<td>\n",
    "<table>\n",
    " <tr style='background-color:white'>\n",
    "  <td style='text-align:left'>v)</td><td style='text-align:left'><code>b=7==7</code></td>\n",
    " </tr>\n",
    " <tr style='background-color:white'>\n",
    "  <td>  </td><td style='text-align:left'><code>print(b,b&lt;=b)</code></td></tr>\n",
    "</table>\n",
    "</td>\n",
    "<td>\n",
    "<table>\n",
    " <tr style='background-color:white'>\n",
    "  <td style='text-align:left'>w)</td><td style='text-align:left'><code>print(7!=7)</code></td>\n",
    " </tr>\n",
    " <tr style='background-color:white'>\n",
    "  <td>  </td><td style='text-align:left'><code>print(7&lt;&gt;7)</code></td></tr>\n",
    "</table>\n",
    "</td>\n",
    "<td>\n",
    "<table>\n",
    " <tr style='background-color:white'>\n",
    "  <td style='text-align:left'>x)</td><td style='text-align:left'><code>a=not not 1&gt;0</code></td>\n",
    " </tr>\n",
    " <tr style='background-color:white'>\n",
    "  <td>  </td><td style='text-align:left'><code>print(a)</code></td></tr>\n",
    "</table>\n",
    "</td>\n",
    "<td>\n",
    "<table>\n",
    " <tr style='background-color:white'>\n",
    "  <td style='text-align:left'>y)</td><td style='text-align:left'><code>print(not)</code></td>\n",
    " </tr>\n",
    "<tr style='background-color:white'>\n",
    "  <td>  </td><td style='text-align:left'></td></tr>\n",
    "</table>\n",
    "</td>\n",
    "</tr>\n",
    "<tr style='background-color:white'><td>\n",
    "<table>\n",
    " <tr style='background-color:white'>\n",
    "  <td style='text-align:left'>z)</td><td style='text-align:left'><code>L=[]</code></td>\n",
    " </tr>\n",
    " <tr style='background-color:white'>\n",
    "  <td>  </td><td style='text-align:left'><code>print(L)</code></td></tr>\n",
    "</table>\n",
    "</td>\n",
    "<td>\n",
    "<table>\n",
    " <tr style='background-color:white'>\n",
    "  <td style='text-align:left'>ä)</td><td style='text-align:left'><code>L.append([])</code></td>\n",
    " </tr>\n",
    " <tr style='background-color:white'>\n",
    "  <td>  </td><td style='text-align:left'><code>print(L,len(L))</code></td></tr>\n",
    "</table>\n",
    "</td>\n",
    "<td>\n",
    "<table>\n",
    " <tr style='background-color:white'>\n",
    "  <td style='text-align:left'>ö)</td><td style='text-align:left'><code>L.append([1,2])</code></td>\n",
    " </tr>\n",
    " <tr style='background-color:white'>\n",
    "  <td>  </td><td style='text-align:left'><code>print(L,len(L))</code></td></tr>\n",
    "</table>\n",
    "</td>\n",
    "<td>\n",
    "<table>\n",
    " <tr style='background-color:white'>\n",
    "  <td style='text-align:left'>ü)</td><td style='text-align:left'><code>L=L+L</code></td>\n",
    " </tr>\n",
    " <tr style='background-color:white'>\n",
    "  <td>  </td><td style='text-align:left'><code>print(L,len(L))</code></td></tr>\n",
    "</table>\n",
    "</td>\n",
    "<td>\n",
    "<table>\n",
    " <tr style='background-color:white'>\n",
    "  <td style='text-align:left'>ß)</td><td style='text-align:left'><code>L[1][1]=7</code></td>\n",
    " </tr>\n",
    " <tr style='background-color:white'>\n",
    "  <td>  </td><td style='text-align:left'><code>print(L,len(L))</code></td></tr>\n",
    "</table>\n",
    "</td>\n",
    "</tr>\n",
    "</table>"
   ]
  },
  {
   "cell_type": "code",
   "execution_count": 14,
   "id": "5846d37d",
   "metadata": {},
   "outputs": [],
   "source": [
    "x=7\n",
    "y=11\n",
    "# hier kommen Ihre Anweisungen, die Sie aus der Aufgabenstellung oben abtippen\n"
   ]
  },
  {
   "cell_type": "markdown",
   "id": "1668c071",
   "metadata": {},
   "source": [
    "<div style=\"page-break-after: always;\"></div>\n",
    "\n",
    "## Aufgabe 2: Die Fibonacci-Folge\n",
    "\n",
    "Die Fibonacci-Folge wird meist als 1,1,2,3,5,8,13,21,34,55,... dargestellt. So dass die zehnte Zahl f<sub>10</sub>=55 ist. Seltener findet man Darstellungen der Art 0,1,1,2,3,5,... oder 1,2,3,... In jedem Fall aber ist jedes Glied der Folge (außer den beiden ersten) gleich der Summe seiner beiden Vorgänger.\n",
    "\n",
    "### a) Mit 10 Variablen\n",
    "\n",
    "Schreiben Sie ein Programm, das mit den Variablen a,b,c,..j arbeitet und am Ende in j den Wert von f<sub>10</sub> <it>berechnet</it> und ausgibt. Nirgendwo im Programm darf eine andere Zahl als 1 stehen - sonst ist es nicht berechnet. Die ersten beiden Zeilen sind schon vorgegeben:\n"
   ]
  },
  {
   "cell_type": "code",
   "execution_count": 15,
   "id": "6a8f5870",
   "metadata": {},
   "outputs": [],
   "source": [
    "a=1\n",
    "b=1\n",
    "# hier kommen Ihre Anweisungen\n"
   ]
  },
  {
   "cell_type": "markdown",
   "id": "3634b014",
   "metadata": {},
   "source": [
    "### b) Mit 3 Variablen\n",
    "\n",
    "Erreichen Sie das gleiche Ziel (die <i>Berechnung</i> von f<sub>10</sub>) unter verwendung von lediglich 3 Variablen a,b und c. Außer a und b müssen alle anderen Werte der Folge berechnet werden als Summe der beiden Vorgänger. Nirgendwo im Programm darf eine andere Zahl als 1 stehen:\n"
   ]
  },
  {
   "cell_type": "code",
   "execution_count": 16,
   "id": "05e06581",
   "metadata": {},
   "outputs": [],
   "source": [
    "a=1\n",
    "b=1\n",
    "c=a+b\n",
    "# hier kommen Ihre Anweisungen\n"
   ]
  },
  {
   "cell_type": "markdown",
   "id": "cae7cb92",
   "metadata": {},
   "source": [
    "### c) Mit 2 Variablen\n",
    "\n",
    "Jetzt wird's interessant, denn jetzt sollen Sie das gleiche erreichen, dürfen aber außer a und b gar keine anderen Variablen verwenden. Trotzdem soll am Ende eine print-Anweisung stehen, die 55 ausgibt. (Und ja, alle anderen Fibonacci-Zahlen müssen unterwegs auch irgendwann berechnet worden sein.)"
   ]
  },
  {
   "cell_type": "code",
   "execution_count": 17,
   "id": "147256de",
   "metadata": {},
   "outputs": [],
   "source": [
    "a=1\n",
    "b=1\n",
    "# hier kommen Ihre Anweisungen\n"
   ]
  },
  {
   "cell_type": "markdown",
   "id": "59a7e677",
   "metadata": {},
   "source": [
    "<div style=\"page-break-after: always;\"></div>\n",
    "\n",
    "### d) Mit einer Liste\n",
    "\n",
    "Jetzt dürfen Sie sogar nur eine Variable a verwenden. Am Ende des Progrämmchens muss die Anweisung `print(a[-1])` stehen und die 55 ausgeben. Davor müssen Ihre Anweisungen dafür sorgen, dass eine Liste mit den ersten 10 Fibonacci-Zahlen aufgebaut wird, dass also a den Wert `[1,1,2,3,5,8,13,21,34,55]` hat bevor die print-Anweisung das letzte Element ausgibt. Und ja, auch dieses Mal dürfen Sie keine beliebigen Zahlen verwenden, nur -1 und -2."
   ]
  },
  {
   "cell_type": "code",
   "execution_count": 18,
   "id": "9c92b03d",
   "metadata": {},
   "outputs": [
    {
     "name": "stdout",
     "output_type": "stream",
     "text": [
      "1\n"
     ]
    }
   ],
   "source": [
    "a=[1,1]\n",
    "print(a[-1])\n",
    "# hier kommen Ihre Anweisungen\n"
   ]
  },
  {
   "cell_type": "markdown",
   "id": "b0633457",
   "metadata": {},
   "source": [
    "## Aufgabe 3 (Ein-/Ausgaben)\n",
    "\n",
    "Mit `x=input(\"Gib was ein: \")` kann man den Benutzer auffordern über die Tastatur eine Eingabe zu machen. Der Text `\"Gib was ein: \"` kann natürlich auch ein anderer sein, und statt das Eingegebene der Variablen `x` zuzuweisen, kann man natürlich auch eine andere Variable verwenden. Aber vorsicht: Das, was eingegeben wird, ist ein Text, hier probieren Sie mal:"
   ]
  },
  {
   "cell_type": "code",
   "execution_count": 19,
   "id": "6cc1daac",
   "metadata": {},
   "outputs": [
    {
     "name": "stdin",
     "output_type": "stream",
     "text": [
      "Gib was ein: Test\n"
     ]
    },
    {
     "name": "stdout",
     "output_type": "stream",
     "text": [
      "Test TestTestTest\n"
     ]
    }
   ],
   "source": [
    "x=input(\"Gib was ein:\")\n",
    "print(x,x*3)"
   ]
  },
  {
   "cell_type": "markdown",
   "id": "d2d0557f",
   "metadata": {},
   "source": [
    "Wenn Sie wollen, dass das Eingegebene wie eine Zahl behandelt wird, dann muss der Text in eine Zahl gewandlet werden, zum Beispiel so:"
   ]
  },
  {
   "cell_type": "code",
   "execution_count": 21,
   "id": "298c8754",
   "metadata": {
    "scrolled": true
   },
   "outputs": [
    {
     "name": "stdin",
     "output_type": "stream",
     "text": [
      "Gib was ein: 2\n"
     ]
    },
    {
     "name": "stdout",
     "output_type": "stream",
     "text": [
      "2 6\n"
     ]
    },
    {
     "name": "stdin",
     "output_type": "stream",
     "text": [
      "Gib noch was ein: 2.5\n"
     ]
    },
    {
     "name": "stdout",
     "output_type": "stream",
     "text": [
      "2.5 7.5\n"
     ]
    }
   ],
   "source": [
    "x=int(input(\"Gib was ein:\"))\n",
    "print(x,x*3)\n",
    "y=float(input(\"Gib noch was ein:\"))\n",
    "print(y,y*3)"
   ]
  },
  {
   "cell_type": "markdown",
   "id": "83b5afc9",
   "metadata": {},
   "source": [
    "Jetzt, da Sie wissen, wie man Eingaben macht, können Sie auch die folgenden Progrämmchen basteln:\n",
    "\n",
    "### a) Namentliche Begrüßung\n",
    "\n",
    "Der Benutzer wird aufgefordert, seinen Namen einzugeben (z.B. `Hase`). Auf dem Bildschirm erscheint dann eine Grußmeldung, die den Namen enthält (z.B. `Hallo Hase!`)."
   ]
  },
  {
   "cell_type": "code",
   "execution_count": 22,
   "id": "86a20e74",
   "metadata": {},
   "outputs": [],
   "source": [
    "# hier kommen Ihre Anweisungen\n"
   ]
  },
  {
   "cell_type": "markdown",
   "id": "5c6f2755",
   "metadata": {},
   "source": [
    "### b) Quadrat der eingegebenen Zahl ausgeben\n",
    "\n",
    "Der Benutzer wird aufgefordert, eine Zahl einzugeben. Auf dem Bildschirm erscheint dann eine Meldung in der das Quadrat der Zahl ausgegeben wird."
   ]
  },
  {
   "cell_type": "code",
   "execution_count": 23,
   "id": "c7d98d62",
   "metadata": {},
   "outputs": [],
   "source": [
    "# hier kommen Ihre Anweisungen\n"
   ]
  },
  {
   "cell_type": "markdown",
   "id": "ebd0d6c6",
   "metadata": {},
   "source": [
    "## Aufgabe 4 (Textausgaben formatieren)\n",
    "\n",
    "Oft ist es umständlich `print` Anweisungen mit nur durch Komma getrennte Stückchen  zu formatieren. Python bietet daher die Möglichkeit an, einen String (= einen Text) zu formatieren, bevor er weiter verwendet wird, zum Beispiel so:"
   ]
  },
  {
   "cell_type": "code",
   "execution_count": 24,
   "id": "62358173",
   "metadata": {},
   "outputs": [
    {
     "name": "stdout",
     "output_type": "stream",
     "text": [
      "Hallo Hase\n",
      "Die Aktie von Hasiland AG ist am 14.02. um 10 % gestiegen.\n"
     ]
    }
   ],
   "source": [
    "s = \"Hallo {}\".format(\"Hase\")\n",
    "print(s)\n",
    "s = \"Die Aktie von {} ist am {} um {} % {}.\".format(\"Hasiland AG\",\"14.02.\",10,\"gestiegen\")\n",
    "print(s)"
   ]
  },
  {
   "cell_type": "markdown",
   "id": "afa10334",
   "metadata": {},
   "source": [
    "<font size=\"+1\"><b>a)</b></font> Schreiben Sie ein Progrämmchen, das den Benutzer auffordert sein Geburtsjahr einzugeben, danach soll er seinen Geburtsmonat eingeben und dann denn Tag (also drei `input` Anweisungen). Auf dem Bildschirm soll dann so etwas erscheinen wie: `Dein Geburtstag ist der 11.03.2002`."
   ]
  },
  {
   "cell_type": "code",
   "id": "9e4363d0",
   "metadata": {
    "ExecuteTime": {
     "end_time": "2024-05-31T16:27:02.460499Z",
     "start_time": "2024-05-31T16:26:59.298737Z"
    }
   },
   "source": [
    "# hier kommen Ihre Anweisungen\n",
    "tag = input(\"An welchem Tag hast du Geburtstag?\")\n",
    "monat = input(\"An welchem Monat hast du Geburtstag?\")\n",
    "jahr = input(\"In welchem Jahr wurdest du geboren?\")\n",
    "\n",
    "print(\"Dein Geburtstag ist am: {}.{}.{}!\".format(tag, monat, jahr))\n",
    "\n",
    "\n"
   ],
   "outputs": [
    {
     "name": "stdout",
     "output_type": "stream",
     "text": [
      "Dein Geburtstag ist am: ..!\n"
     ]
    },
    {
     "ename": "TypeError",
     "evalue": "can only concatenate str (not \"int\") to str",
     "output_type": "error",
     "traceback": [
      "\u001B[1;31m---------------------------------------------------------------------------\u001B[0m",
      "\u001B[1;31mTypeError\u001B[0m                                 Traceback (most recent call last)",
      "Cell \u001B[1;32mIn[1], line 9\u001B[0m\n\u001B[0;32m      4\u001B[0m jahr \u001B[38;5;241m=\u001B[39m \u001B[38;5;28minput\u001B[39m(\u001B[38;5;124m\"\u001B[39m\u001B[38;5;124mIn welchem Jahr wurdest du geboren?\u001B[39m\u001B[38;5;124m\"\u001B[39m)\n\u001B[0;32m      6\u001B[0m \u001B[38;5;28mprint\u001B[39m(\u001B[38;5;124m\"\u001B[39m\u001B[38;5;124mDein Geburtstag ist am: \u001B[39m\u001B[38;5;132;01m{}\u001B[39;00m\u001B[38;5;124m.\u001B[39m\u001B[38;5;132;01m{}\u001B[39;00m\u001B[38;5;124m.\u001B[39m\u001B[38;5;132;01m{}\u001B[39;00m\u001B[38;5;124m!\u001B[39m\u001B[38;5;124m\"\u001B[39m\u001B[38;5;241m.\u001B[39mformat(tag, monat, jahr))\n\u001B[1;32m----> 9\u001B[0m \u001B[38;5;28mprint\u001B[39m(\u001B[38;5;124;43m\"\u001B[39;49m\u001B[38;5;124;43mtest \u001B[39;49m\u001B[38;5;124;43m\"\u001B[39;49m\u001B[43m \u001B[49m\u001B[38;5;241;43m+\u001B[39;49m\u001B[43m \u001B[49m\u001B[38;5;241;43m3\u001B[39;49m)\n",
      "\u001B[1;31mTypeError\u001B[0m: can only concatenate str (not \"int\") to str"
     ]
    }
   ],
   "execution_count": 1
  },
  {
   "cell_type": "markdown",
   "id": "548f3131",
   "metadata": {},
   "source": [
    "<font size=\"+1\"><b>b)</b></font> Man kann Zahlen addieren und man kann Texte addieren (=verketten). Man kann aber nicht Zahlen und Texte zusammen addieren (zumindest nicht in Python). Wenn man das will, muss man erst die Zahl in einen Text umwandeln. Das geht z.B. mit `s=str(x)`. Probieren Sie es mal aus:"
   ]
  },
  {
   "cell_type": "code",
   "id": "963f864e",
   "metadata": {
    "ExecuteTime": {
     "end_time": "2024-05-31T16:27:53.379399Z",
     "start_time": "2024-05-31T16:27:53.370375Z"
    }
   },
   "source": [
    "x=13\n",
    "s=\"Dreizehn = \"+x  # Geht schief"
   ],
   "outputs": [
    {
     "ename": "TypeError",
     "evalue": "can only concatenate str (not \"int\") to str",
     "output_type": "error",
     "traceback": [
      "\u001B[1;31m---------------------------------------------------------------------------\u001B[0m",
      "\u001B[1;31mTypeError\u001B[0m                                 Traceback (most recent call last)",
      "Cell \u001B[1;32mIn[4], line 2\u001B[0m\n\u001B[0;32m      1\u001B[0m x\u001B[38;5;241m=\u001B[39m\u001B[38;5;241m13\u001B[39m\n\u001B[1;32m----> 2\u001B[0m s\u001B[38;5;241m=\u001B[39m\u001B[38;5;124;43m\"\u001B[39;49m\u001B[38;5;124;43mDreizehn = \u001B[39;49m\u001B[38;5;124;43m\"\u001B[39;49m\u001B[38;5;241;43m+\u001B[39;49m\u001B[43mx\u001B[49m  \u001B[38;5;66;03m# Geht schief\u001B[39;00m\n",
      "\u001B[1;31mTypeError\u001B[0m: can only concatenate str (not \"int\") to str"
     ]
    }
   ],
   "execution_count": 4
  },
  {
   "cell_type": "code",
   "id": "8bbf33d1",
   "metadata": {
    "ExecuteTime": {
     "end_time": "2024-05-31T16:29:42.672034Z",
     "start_time": "2024-05-31T16:29:42.669389Z"
    }
   },
   "source": [
    "x=13\n",
    "s=\"Dreizehn = \"+str(x) # -> TYPE CASTING\n",
    "print(s,x)\n",
    "\n",
    "zahl = input(\"gib ne zahl ein!\")\n",
    "\n",
    "text = \"Dies\" + \" ist \" + \"ein \" + \"test!\"\n",
    "print(text, \"und\", \"so\",\"gehts\",\"weiter\")\n"
   ],
   "outputs": [
    {
     "name": "stdout",
     "output_type": "stream",
     "text": [
      "Dreizehn = 13\n",
      "Dies ist ein test! und so gehts weiter\n"
     ]
    }
   ],
   "execution_count": 15
  },
  {
   "cell_type": "markdown",
   "id": "017cf750",
   "metadata": {},
   "source": "Machen Sie das Geburtstagsprogramm aus der a) nochmal, aber geben in der `print`-Anweisung nur ein Argument an (also keine Kommas). Sorgen Sie halt dafür, dass der auszugebende String schon vorher korrekt zusammengebastelt ist."
  },
  {
   "cell_type": "code",
   "execution_count": 28,
   "id": "18e2cf3e",
   "metadata": {},
   "outputs": [],
   "source": [
    "# hier kommen Ihre Anweisungen\n",
    "# hier kommen Ihre Anweisungen\n",
    "tag = input(\"An welchem Tag hast du Geburtstag?\")\n",
    "monat = input(\"An welchem Monat hast du Geburtstag?\")\n",
    "jahr = input(\"In welchem Jahr wurdest du geboren?\")\n",
    "x = \"Dein Geburtstag ist am: {}.{}.{}!\".format(tag, monat, jahr)\n",
    "print(x)\n",
    "\n",
    "\n"
   ]
  }
 ],
 "metadata": {
  "kernelspec": {
   "display_name": "Python 3 (ipykernel)",
   "language": "python",
   "name": "python3"
  },
  "language_info": {
   "codemirror_mode": {
    "name": "ipython",
    "version": 3
   },
   "file_extension": ".py",
   "mimetype": "text/x-python",
   "name": "python",
   "nbconvert_exporter": "python",
   "pygments_lexer": "ipython3",
   "version": "3.9.18"
  }
 },
 "nbformat": 4,
 "nbformat_minor": 5
}
